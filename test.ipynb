{
 "cells": [
  {
   "cell_type": "code",
   "execution_count": 7,
   "id": "3f3a1273-c4fe-43a7-b6f2-ac458105f84d",
   "metadata": {},
   "outputs": [],
   "source": [
    "iti = ['http://127.0.0.1:5000/dashboard', 'http://127.0.0.1:5000/contacts', 'http://127.0.0.1:5000/tickets', 'http://127.0.0.1:5000/admin/settings', 'http://127.0.0.1:5000/contacts/add', 'http://127.0.0.1:5000/tickets/add']"
   ]
  },
  {
   "cell_type": "code",
   "execution_count": 5,
   "id": "45cf7dbe-eab6-4ba6-91eb-b4272c9031b4",
   "metadata": {},
   "outputs": [],
   "source": [
    "iti = iti.sort()"
   ]
  },
  {
   "cell_type": "code",
   "execution_count": 8,
   "id": "ee4a553b-23b1-49dd-a44d-7f809553c49b",
   "metadata": {},
   "outputs": [
    {
     "data": {
      "text/plain": [
       "['http://127.0.0.1:5000/dashboard',\n",
       " 'http://127.0.0.1:5000/contacts',\n",
       " 'http://127.0.0.1:5000/tickets',\n",
       " 'http://127.0.0.1:5000/admin/settings',\n",
       " 'http://127.0.0.1:5000/contacts/add',\n",
       " 'http://127.0.0.1:5000/tickets/add']"
      ]
     },
     "execution_count": 8,
     "metadata": {},
     "output_type": "execute_result"
    }
   ],
   "source": [
    "iti"
   ]
  },
  {
   "cell_type": "code",
   "execution_count": 10,
   "id": "c42cbfed-5132-4a23-bb8c-4e34006eb3b8",
   "metadata": {},
   "outputs": [
    {
     "data": {
      "text/plain": [
       "['http://127.0.0.1:5000/admin/settings',\n",
       " 'http://127.0.0.1:5000/contacts',\n",
       " 'http://127.0.0.1:5000/contacts/add',\n",
       " 'http://127.0.0.1:5000/dashboard',\n",
       " 'http://127.0.0.1:5000/tickets',\n",
       " 'http://127.0.0.1:5000/tickets/add']"
      ]
     },
     "execution_count": 10,
     "metadata": {},
     "output_type": "execute_result"
    }
   ],
   "source": [
    "sorted(iti, key=lambda url: url.split(\"5000\")[-1])\n"
   ]
  },
  {
   "cell_type": "code",
   "execution_count": null,
   "id": "de1b8283-e665-4ac9-8c9b-019b91a5fc94",
   "metadata": {},
   "outputs": [],
   "source": []
  }
 ],
 "metadata": {
  "kernelspec": {
   "display_name": "Python 3 (ipykernel)",
   "language": "python",
   "name": "python3"
  },
  "language_info": {
   "codemirror_mode": {
    "name": "ipython",
    "version": 3
   },
   "file_extension": ".py",
   "mimetype": "text/x-python",
   "name": "python",
   "nbconvert_exporter": "python",
   "pygments_lexer": "ipython3",
   "version": "3.12.3"
  }
 },
 "nbformat": 4,
 "nbformat_minor": 5
}
