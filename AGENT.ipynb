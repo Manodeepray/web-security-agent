{
 "cells": [
  {
   "cell_type": "markdown",
   "id": "f3cd897b-bf57-4229-899f-71e9687bfea9",
   "metadata": {},
   "source": [
    "# Extracting steps form workflow.md"
   ]
  },
  {
   "cell_type": "code",
   "execution_count": 206,
   "id": "3f3a1273-c4fe-43a7-b6f2-ac458105f84d",
   "metadata": {
    "vscode": {
     "languageId": "shellscript"
    }
   },
   "outputs": [],
   "source": [
    "with open(\"data/extracted_task_workflows/Workflow_5.md\" ,\"r\") as f:\n",
    "    workflow = f.read()"
   ]
  },
  {
   "cell_type": "code",
   "execution_count": 207,
   "id": "ee4a553b-23b1-49dd-a44d-7f809553c49b",
   "metadata": {
    "vscode": {
     "languageId": "shellscript"
    }
   },
   "outputs": [
    {
     "data": {
      "text/plain": [
       "{'task': \"---\\nTask: 6. Save settings by filling out the form on the admin/settings page and submitting it via the 'Save Settings' button\\n\",\n",
       " 'workflow_steps': [':',\n",
       "  'Step 1: Navigate to the admin/settings page by going to http://127.0.0.1:5000/admin/settings.',\n",
       "  'Step 2: Locate the form on the page with action=\"/admin/settings\" and method=\"POST\".',\n",
       "  'Step 3: Fill out the form with the required inputs: ',\n",
       "  '    - site_name (text input)',\n",
       "  '    - support_email (email input)',\n",
       "  'Step 4: Locate the button with type=\"submit\" and text=\"Save Settings\".',\n",
       "  'Step 5: Press the \"Save Settings\" button to submit the form with the POST method to /admin/settings.',\n",
       "  'Step 6: Verify that the settings have been saved successfully.']}"
      ]
     },
     "execution_count": 207,
     "metadata": {},
     "output_type": "execute_result"
    }
   ],
   "source": [
    "\n",
    "#contains the workflow divided into {task : str ,steps : [str....]}\n",
    "\n",
    "\n",
    "wf={}\n",
    "wf[\"task\"] = workflow.split(\"Workflow\")[0]\n",
    "wf[\"workflow_steps\"] = workflow.split(\"Workflow\")[1].split(\"\\n\")\n",
    "wf\n"
   ]
  },
  {
   "cell_type": "code",
   "execution_count": 208,
   "id": "a7221e7e-eb85-4dbd-a16c-ea874a09ef76",
   "metadata": {
    "vscode": {
     "languageId": "shellscript"
    }
   },
   "outputs": [],
   "source": [
    "page = {}"
   ]
  },
  {
   "cell_type": "markdown",
   "id": "12faae3f-6adb-4117-8693-a1d50a855483",
   "metadata": {},
   "source": [
    "# AGENT\n"
   ]
  },
  {
   "cell_type": "markdown",
   "id": "2e97adec-5cf1-48da-b0e2-0a287f4a4c99",
   "metadata": {},
   "source": [
    "### states and dataclasses"
   ]
  },
  {
   "cell_type": "code",
   "execution_count": 209,
   "id": "919c1b74-45ae-409a-a7b7-36c3cc207158",
   "metadata": {
    "vscode": {
     "languageId": "shellscript"
    }
   },
   "outputs": [],
   "source": [
    "try:\n",
    "    from langchain.tools import tool\n",
    "except:\n",
    "    !uv pip install langchain\n",
    "# langgraph state variable (dict)\n",
    "\n",
    "state = {\n",
    "    \"page\" : None,  # Puppeteer page instance\n",
    "    \"home_url\": None,\n",
    "    \"curr_url\": None,\n",
    "    \"last_action\": None,\n",
    "    \"history\": [],\n",
    "}"
   ]
  },
  {
   "cell_type": "code",
   "execution_count": 210,
   "id": "00da653a-7106-4a0c-a3f8-4c04b1f762f6",
   "metadata": {
    "vscode": {
     "languageId": "shellscript"
    }
   },
   "outputs": [
    {
     "data": {
      "text/plain": [
       "{'page': None,\n",
       " 'home_url': None,\n",
       " 'curr_url': None,\n",
       " 'last_action': None,\n",
       " 'history': []}"
      ]
     },
     "execution_count": 210,
     "metadata": {},
     "output_type": "execute_result"
    }
   ],
   "source": [
    "state"
   ]
  },
  {
   "cell_type": "markdown",
   "id": "423e5845-9f3e-438b-a6c8-4eff87a03c7c",
   "metadata": {},
   "source": [
    "## TOOLS\n"
   ]
  },
  {
   "cell_type": "code",
   "execution_count": 211,
   "id": "94bd91a4-6561-4da6-ab54-92f1eb59599e",
   "metadata": {
    "vscode": {
     "languageId": "shellscript"
    }
   },
   "outputs": [],
   "source": [
    "try:\n",
    "    import langgraph\n",
    "except:\n",
    "    !uv pip install langgraph"
   ]
  },
  {
   "cell_type": "code",
   "execution_count": 212,
   "id": "cd22a69b-5348-4e7a-9f7e-533f4f0e311a",
   "metadata": {
    "vscode": {
     "languageId": "shellscript"
    }
   },
   "outputs": [],
   "source": [
    "try:\n",
    "    from pyppeteer import launch\n",
    "except:\n",
    "    !uv pip install pyppeteer\n",
    "\n",
    "import asyncio"
   ]
  },
  {
   "cell_type": "code",
   "execution_count": 213,
   "id": "a4715472-a9f7-4fcf-99c7-2920bed46e2d",
   "metadata": {
    "vscode": {
     "languageId": "shellscript"
    }
   },
   "outputs": [],
   "source": [
    "home_url = \"http://127.0.0.1:5000/\"\n",
    "test_url = \"http://127.0.0.1:5000/contacts/add\"\n",
    " \n",
    "browser = await launch(headless=True, args=['--no-sandbox', '--disable-setuid-sandbox'])\n",
    "\n",
    "page = await browser.newPage()\n",
    "await page.goto(test_url, {'waitUntil': 'networkidle2'})\n",
    "state['page'] = page\n",
    "\n",
    "\n",
    "state[\"home_url\"] = home_url\n",
    "state[\"curr_url\"] = page.url"
   ]
  },
  {
   "cell_type": "code",
   "execution_count": 214,
   "id": "a0cf26d1-8c40-4325-881b-ab9393f7d804",
   "metadata": {
    "vscode": {
     "languageId": "shellscript"
    }
   },
   "outputs": [],
   "source": [
    "import re\n",
    "\n",
    "\n",
    "links = await page.evaluate('''() => \n",
    "                                       {\n",
    "                                        const elements = Array.from(\n",
    "                                            document.querySelectorAll(\n",
    "                                                'a'\n",
    "                                                \n",
    "                                            ));   \n",
    "                                        return elements.map(el => el.outerHTML);   \n",
    "                                           \n",
    "                                           \n",
    "                                       }\n",
    "                                       ''') \n",
    "    \n",
    "    \n",
    "# print(links)\n",
    "extracted_links = []\n",
    "for link in links:\n",
    "    match = re.search(r'href=[\\'\"]([^\\'\"]+)[\\'\"]', link)\n",
    "\n",
    "    if match:\n",
    "        href_value = match.group(1)\n",
    "        # print(href_value)\n",
    "        \n",
    "    \n",
    "    extracted_links.append(href_value)\n",
    "\n",
    "\n",
    "\n",
    "\n",
    "\n",
    "# buttons ,\"\\n\", forms , \" \" , extracted_links"
   ]
  },
  {
   "cell_type": "code",
   "execution_count": 215,
   "id": "96730e4f-c74c-448c-b91e-945bef8f5396",
   "metadata": {
    "vscode": {
     "languageId": "shellscript"
    }
   },
   "outputs": [],
   "source": [
    "#click link tool"
   ]
  },
  {
   "cell_type": "code",
   "execution_count": 216,
   "id": "8920262f-6a01-4396-8fc1-8000f6123592",
   "metadata": {
    "vscode": {
     "languageId": "shellscript"
    }
   },
   "outputs": [
    {
     "data": {
      "text/plain": [
       "('http://127.0.0.1:5000/',\n",
       " ['/dashboard', '/contacts', '/tickets', '/admin', '/contacts'])"
      ]
     },
     "execution_count": 216,
     "metadata": {},
     "output_type": "execute_result"
    }
   ],
   "source": [
    "state[\"home_url\"],extracted_links"
   ]
  },
  {
   "cell_type": "code",
   "execution_count": 217,
   "id": "9bd0d861-f839-4d36-a59f-43dab29b6f40",
   "metadata": {
    "vscode": {
     "languageId": "shellscript"
    }
   },
   "outputs": [],
   "source": [
    "\n",
    "@tool\n",
    "async def navigate_to_link(state: dict, relative_url: str):\n",
    "    \"\"\"\n",
    "    Navigate to a selected link (relative path like '/dashboard')\n",
    "    Args:\n",
    "        state (dict): Must contain a Puppeteer page object in `state[\"page\"]`\n",
    "        relative_url (str): e.g. '/dashboard'\n",
    "    Returns:\n",
    "        dict: Updated state with last action\n",
    "    \"\"\"\n",
    "    page = state[\"page\"]\n",
    "    home_url = state[\"home_url\"]\n",
    "\n",
    "    # Construct absolute URL\n",
    "    full_url = home_url.rstrip(\"/\") + relative_url\n",
    "\n",
    "    try:\n",
    "        await page.goto(full_url, {'waitUntil': 'networkidle2'})\n",
    "        state[\"curr_url\"] = full_url\n",
    "        state[\"last_action\"] = f\"✅ Navigated to {full_url}\"\n",
    "        return state\n",
    "    except Exception as e:\n",
    "        state[\"last_action\"] = f\"❌ Failed to navigate to {full_url}: {e}\"\n",
    "        return state\n",
    "\n"
   ]
  },
  {
   "cell_type": "code",
   "execution_count": null,
   "id": "8a33dcd3-32ec-4921-ac19-bcf1f4f924c2",
   "metadata": {
    "vscode": {
     "languageId": "shellscript"
    }
   },
   "outputs": [],
   "source": []
  },
  {
   "cell_type": "code",
   "execution_count": 218,
   "id": "38944e80-b912-4116-ad6e-56647ab265ad",
   "metadata": {
    "vscode": {
     "languageId": "shellscript"
    }
   },
   "outputs": [
    {
     "data": {
      "text/plain": [
       "<pyppeteer.page.Page at 0x70dd0b3c8770>"
      ]
     },
     "execution_count": 218,
     "metadata": {},
     "output_type": "execute_result"
    }
   ],
   "source": [
    "page"
   ]
  },
  {
   "cell_type": "code",
   "execution_count": 219,
   "id": "ad0cf309-beca-4e73-9664-4cadb6f3e117",
   "metadata": {
    "vscode": {
     "languageId": "shellscript"
    }
   },
   "outputs": [
    {
     "data": {
      "text/plain": [
       "['<button type=\"submit\">Save Contact</button>']"
      ]
     },
     "execution_count": 219,
     "metadata": {},
     "output_type": "execute_result"
    }
   ],
   "source": [
    "#click button tool\n",
    "\n",
    "buttons = await page.evaluate('''() => \n",
    "                                       {\n",
    "                                        const elements = Array.from(\n",
    "                                            document.querySelectorAll(\n",
    "                                             'button, input[type=\"button\"], input[type=\"submit\"], [onclick]'   \n",
    "                                                \n",
    "                                            )\n",
    "                                            \n",
    "                                        );   \n",
    "                                        return elements.map(el => el.outerHTML);   \n",
    "                                           \n",
    "                                           \n",
    "                                       }\n",
    "                                       ''') \n",
    "\n",
    "\n",
    "buttons\n"
   ]
  },
  {
   "cell_type": "code",
   "execution_count": 220,
   "id": "976d0847-86f0-4c3d-b1aa-61cbca1bf007",
   "metadata": {
    "vscode": {
     "languageId": "shellscript"
    }
   },
   "outputs": [],
   "source": [
    "\n",
    "from bs4 import BeautifulSoup\n",
    "\n",
    "\n",
    "@tool\n",
    "async def click_button_by_html(state: dict, html_string: str) -> dict:\n",
    "    \"\"\"\n",
    "    Extract button text from HTML and click it on the current page.\n",
    "    Args:\n",
    "        state (dict): Must contain a Puppeteer page object in `state[\"page\"]`\n",
    "        html_string (str): e.g. '<button type=\"submit\">Save Contact</button>'\n",
    "    Returns:\n",
    "        dict: Updated state with last action\n",
    "    \"\"\"\n",
    "    page = state[\"page\"]\n",
    "\n",
    "    # Extract visible text from the button HTML\n",
    "    try:\n",
    "        soup = BeautifulSoup(html_string, 'html.parser')\n",
    "        target_text = soup.get_text(strip=True)\n",
    "    except Exception as e:\n",
    "        state[\"last_action\"] = f\"❌ Failed to parse HTML: {e}\"\n",
    "        return state\n",
    "\n",
    "    # Search all clickable elements\n",
    "    try:\n",
    "        buttons = await page.querySelectorAll('button, input[type=\"button\"], input[type=\"submit\"], [onclick]')\n",
    "        \n",
    "        for button in buttons:\n",
    "            text = await page.evaluate('(el) => el.innerText || el.value || el.getAttribute(\"onclick\") || \"\"', button)\n",
    "            if text and target_text.lower() in text.strip().lower():\n",
    "                await button.click()\n",
    "                state[\"last_action\"] = f\"✅ Clicked button with text: {text.strip()}\"\n",
    "                return state\n",
    "        \n",
    "        state[\"last_action\"] = f\"❌ No button found with text: {target_text}\"\n",
    "        return state\n",
    "    except Exception as e:\n",
    "        state[\"last_action\"] = f\"❌ Error while clicking button: {e}\"\n",
    "        return state\n",
    "\n",
    "# await click_button_by_html(state , buttons)\n"
   ]
  },
  {
   "cell_type": "code",
   "execution_count": 221,
   "id": "5fa3b904-59e8-49e0-b2ce-0ef32abbbdb8",
   "metadata": {
    "vscode": {
     "languageId": "shellscript"
    }
   },
   "outputs": [
    {
     "data": {
      "text/plain": [
       "['<form action=\"/contacts/add\" method=\"post\">\\n    <label for=\"name\">Name:</label><br>\\n    <input type=\"text\" name=\"name\" required=\"\"><br><br>\\n\\n    <label for=\"email\">Email:</label><br>\\n    <input type=\"email\" name=\"email\" required=\"\"><br><br>\\n\\n    <label for=\"notes\">Notes:</label><br>\\n    <textarea name=\"notes\" rows=\"4\" cols=\"50\"></textarea><br><br>\\n\\n    <button type=\"submit\">Save Contact</button>\\n</form>']"
      ]
     },
     "execution_count": 221,
     "metadata": {},
     "output_type": "execute_result"
    }
   ],
   "source": [
    "#fill form tool\n",
    "\n",
    "\n",
    "\n",
    "forms = await page.evaluate('''() => \n",
    "                                       {\n",
    "                                        const elements = Array.from(\n",
    "                                            document.querySelectorAll(\n",
    "                                                'form'\n",
    "                                                \n",
    "                                            )\n",
    "                                            \n",
    "                                        );   \n",
    "                                        return elements.map(el => el.outerHTML);   \n",
    "                                           \n",
    "                                           \n",
    "                                       }\n",
    "                                       ''') \n",
    "\n",
    "forms"
   ]
  },
  {
   "cell_type": "code",
   "execution_count": 222,
   "id": "e4c5403c-912c-40a7-92d5-d1cd9cb0abc4",
   "metadata": {
    "vscode": {
     "languageId": "shellscript"
    }
   },
   "outputs": [
    {
     "data": {
      "text/plain": [
       "['name', 'email', 'notes']"
      ]
     },
     "execution_count": 222,
     "metadata": {},
     "output_type": "execute_result"
    }
   ],
   "source": [
    "\n",
    "\n",
    "\n",
    "from bs4 import BeautifulSoup\n",
    "\n",
    "def parse_form_fields(html):\n",
    "    soup = BeautifulSoup(html, \"html.parser\")\n",
    "    inputs = soup.find_all(['input', 'textarea'])\n",
    "    field_names = [tag.get(\"name\") for tag in inputs if tag.get(\"name\")]\n",
    "    return field_names\n",
    "    \n",
    "parse_form_fields(forms[0])\n",
    "\n",
    "# use this to the the field values for prompt\n"
   ]
  },
  {
   "cell_type": "code",
   "execution_count": 223,
   "id": "a536bbfe-1288-4d7b-b233-ab2508b53c19",
   "metadata": {
    "vscode": {
     "languageId": "shellscript"
    }
   },
   "outputs": [],
   "source": [
    "\n",
    "form_html = forms[0]\n",
    "\n",
    "values = {\n",
    "    \"name\": \"Manodeep Ray\",\n",
    "    \"email\": \"manodeep@example.com\",\n",
    "    \"notes\": \"College friend\"\n",
    "}\n"
   ]
  },
  {
   "cell_type": "code",
   "execution_count": 224,
   "id": "8d8c0b0c-6136-425c-bbe2-0f65f0836bff",
   "metadata": {
    "vscode": {
     "languageId": "shellscript"
    }
   },
   "outputs": [
    {
     "data": {
      "text/plain": [
       "'http://127.0.0.1:5000/contacts/add'"
      ]
     },
     "execution_count": 224,
     "metadata": {},
     "output_type": "execute_result"
    }
   ],
   "source": [
    "page.url\n"
   ]
  },
  {
   "cell_type": "code",
   "execution_count": 225,
   "id": "09c74726-36d7-49c0-abfe-c0359d145ec8",
   "metadata": {
    "vscode": {
     "languageId": "shellscript"
    }
   },
   "outputs": [
    {
     "name": "stdout",
     "output_type": "stream",
     "text": [
      "input[name=\"name\"], textarea[name=\"name\"]\n",
      "input[name=\"email\"], textarea[name=\"email\"]\n",
      "input[name=\"notes\"], textarea[name=\"notes\"]\n"
     ]
    },
    {
     "data": {
      "text/plain": [
       "'⚠️ Failed to submit form: Navigation Timeout Exceeded: 5000 ms exceeded.'"
      ]
     },
     "execution_count": 225,
     "metadata": {},
     "output_type": "execute_result"
    }
   ],
   "source": [
    "\n",
    "async def fill_form_fields(page, values: dict):\n",
    "    \"\"\"\n",
    "    Fill out and submit a form using the parsed input names and user-provided values.\n",
    "    \n",
    "    Args:\n",
    "        state: LangGraph agent state with a Puppeteer page\n",
    "        form_html: HTML string of the <form>\n",
    "        values: Dict of field names and their values (e.g., {\"name\": \"John\", \"email\": \"john@example.com\"})\n",
    "    \"\"\"\n",
    "    for field_name, field_value in values.items():\n",
    "        selector = f'input[name=\"{field_name}\"], textarea[name=\"{field_name}\"]'\n",
    "        print(selector)\n",
    "        try:\n",
    "            await page.waitForSelector(selector, timeout=2000)\n",
    "            await page.type(selector, field_value)\n",
    "        except Exception as e:\n",
    "            print(f\"⚠️ Failed to fill {field_name}: {e}\")\n",
    "\n",
    "    # Try to click the submit button after filling the form\n",
    "    try:\n",
    "        await page.click('button[type=\"submit\"], input[type=\"submit\"]')\n",
    "        await page.waitForNavigation(timeout=5000)\n",
    "        return \"✅ Form submitted.\"\n",
    "    except Exception as e:\n",
    "        return f\"⚠️ Failed to submit form: {e}\"\n",
    "\n",
    "\n",
    "await fill_form_fields(page, values)\n"
   ]
  },
  {
   "cell_type": "code",
   "execution_count": 226,
   "id": "62441fd0-13df-4b27-92ac-d82573079a5d",
   "metadata": {
    "vscode": {
     "languageId": "shellscript"
    }
   },
   "outputs": [
    {
     "name": "stdout",
     "output_type": "stream",
     "text": [
      "input[name=\"name\"], textarea[name=\"name\"]\n",
      "⚠️ Failed to fill name: Waiting for selector \"input[name=\"name\"], textarea[name=\"name\"]\" failed: timeout 2000ms exceeds.\n",
      "input[name=\"email\"], textarea[name=\"email\"]\n",
      "⚠️ Failed to fill email: Waiting for selector \"input[name=\"email\"], textarea[name=\"email\"]\" failed: timeout 2000ms exceeds.\n",
      "input[name=\"notes\"], textarea[name=\"notes\"]\n",
      "⚠️ Failed to fill notes: Waiting for selector \"input[name=\"notes\"], textarea[name=\"notes\"]\" failed: timeout 2000ms exceeds.\n"
     ]
    }
   ],
   "source": [
    "@tool\n",
    "async def form_filling_tool(state: dict, form_html: str, values: dict):\n",
    "    \"\"\"\n",
    "    Fill out and submit a form using the parsed input names and user-provided values.\n",
    "    \n",
    "    Args:\n",
    "        state: LangGraph agent state with a Puppeteer page\n",
    "        form_html: HTML string of the <form>\n",
    "        values: Dict of field names and their values (e.g., {\"name\": \"John\", \"email\": \"john@example.com\"})\n",
    "    \"\"\"\n",
    "    fields = parse_form_fields(form_html)\n",
    "    filtered_values = {k: v for k, v in values.items() if k in fields}\n",
    "    \n",
    "    result = await fill_form_fields(state[\"page\"], filtered_values)\n",
    "    state[\"last_action\"] = result\n",
    "    return state\n",
    "\n",
    "\n",
    "state = await form_filling_tool.arun({\n",
    "    \"state\": state,\n",
    "    \"form_html\": form_html,\n",
    "    \"values\": values\n",
    "})\n"
   ]
  },
  {
   "cell_type": "code",
   "execution_count": 227,
   "id": "521cf968-d779-40fb-9ab9-86304fab76c1",
   "metadata": {
    "vscode": {
     "languageId": "shellscript"
    }
   },
   "outputs": [
    {
     "data": {
      "text/plain": [
       "{'page': <pyppeteer.page.Page at 0x70dd0b3c8770>,\n",
       " 'home_url': 'http://127.0.0.1:5000/',\n",
       " 'curr_url': 'http://127.0.0.1:5000/contacts/add',\n",
       " 'last_action': '⚠️ Failed to submit form: Navigation Timeout Exceeded: 5000 ms exceeded.',\n",
       " 'history': []}"
      ]
     },
     "execution_count": 227,
     "metadata": {},
     "output_type": "execute_result"
    }
   ],
   "source": [
    "state"
   ]
  },
  {
   "cell_type": "code",
   "execution_count": 228,
   "id": "d4b687bf-031d-44c7-85ee-e2632f5f8982",
   "metadata": {
    "vscode": {
     "languageId": "shellscript"
    }
   },
   "outputs": [],
   "source": [
    "\n",
    "# await navigate_to_link(state , relative_url)\n",
    "# await click_button_by_html(state , buttons)\n",
    "# await form_filling_tool(state , form_html , values )\n",
    "\n",
    "\n",
    "\n",
    "\n",
    "tools = [\n",
    "    navigate_to_link,\n",
    "    click_button_by_html,\n",
    "    form_filling_tool,\n",
    "]\n",
    "\n",
    "state['tools'] = tools"
   ]
  },
  {
   "cell_type": "markdown",
   "id": "6b13d1f2-1f38-4052-9ccc-9e68d2b91f0b",
   "metadata": {},
   "source": [
    "# creating the tools workflow"
   ]
  },
  {
   "cell_type": "code",
   "execution_count": 229,
   "id": "40f3ef67-12ca-4177-a9fc-c61f5662ec57",
   "metadata": {
    "vscode": {
     "languageId": "shellscript"
    }
   },
   "outputs": [
    {
     "data": {
      "text/plain": [
       "'\\nYou are a workflow planner agent.\\n\\n## Objective:\\nYou are given:\\n1. A task to complete.\\n2. A list of natural language steps that must be followed in sequence.\\n3. A list of available tools (functions) in JSON format — each tool has a name and a description.\\n\\nYour job:\\n- Match each step with the most appropriate tool.\\n- Describe the specific action and **arguments/parameters** the tool should use.\\n- Include details like which values are passed in (if relevant).\\n- if there is a form to fill do not have a step to click button to subimt form as filling it would submit it automaticaly\\n---\\n\\n## Task:\\n---\\nTask: 6. Save settings by filling out the form on the admin/settings page and submitting it via the \\'Save Settings\\' button\\n\\n\\n## Steps:\\n[\\':\\', \\'Step 1: Navigate to the admin/settings page by going to http://127.0.0.1:5000/admin/settings.\\', \\'Step 2: Locate the form on the page with action=\"/admin/settings\" and method=\"POST\".\\', \\'Step 3: Fill out the form with the required inputs: \\', \\'    - site_name (text input)\\', \\'    - support_email (email input)\\', \\'Step 4: Locate the button with type=\"submit\" and text=\"Save Settings\".\\', \\'Step 5: Press the \"Save Settings\" button to submit the form with the POST method to /admin/settings.\\', \\'Step 6: Verify that the settings have been saved successfully.\\']\\n\\n## Input Values (e.g. for forms):\\n{}\\n\\n## Available Tools (in JSON):\\n[StructuredTool(name=\\'navigate_to_link\\', description=\\'Navigate to a selected link (relative path like \\\\\\'/dashboard\\\\\\')\\\\nArgs:\\\\n    state (dict): Must contain a Puppeteer page object in `state[\"page\"]`\\\\n    relative_url (str): e.g. \\\\\\'/dashboard\\\\\\'\\\\nReturns:\\\\n    dict: Updated state with last action\\', args_schema=<class \\'langchain_core.utils.pydantic.navigate_to_link\\'>, coroutine=<function navigate_to_link at 0x70dd081eb560>), StructuredTool(name=\\'click_button_by_html\\', description=\\'Extract button text from HTML and click it on the current page.\\\\nArgs:\\\\n    state (dict): Must contain a Puppeteer page object in `state[\"page\"]`\\\\n    html_string (str): e.g. \\\\\\'<button type=\"submit\">Save Contact</button>\\\\\\'\\\\nReturns:\\\\n    dict: Updated state with last action\\', args_schema=<class \\'langchain_core.utils.pydantic.click_button_by_html\\'>, coroutine=<function click_button_by_html at 0x70dd081ebec0>), StructuredTool(name=\\'form_filling_tool\\', description=\\'Fill out and submit a form using the parsed input names and user-provided values.\\\\n\\\\nArgs:\\\\n    state: LangGraph agent state with a Puppeteer page\\\\n    form_html: HTML string of the <form>\\\\n    values: Dict of field names and their values (e.g., {\"name\": \"John\", \"email\": \"john@example.com\"})\\', args_schema=<class \\'langchain_core.utils.pydantic.form_filling_tool\\'>, coroutine=<function form_filling_tool at 0x70dd081e8b80>)]\\n\\n---\\n\\n## Output format:\\nProduce a **single-line string**, no newlines. For each step, use this format:\\n\\n`StepDescription -> ToolName -> DetailedAction`\\n\\nWhere:\\n- `StepDescription` is a natural language summary of the step.\\n- `ToolName` is the name of the tool to use.\\n- `DetailedAction` explains exactly what the tool should do, including what arguments or values are used (if applicable).\\n\\nSeparate each step with ` || ` (double pipe). Do not add newlines or extra commentary.\\n\\n---\\n\\n## Example Output:\\nNavigate to the contact creation page -> navigate_to_link -> Go to relative URL \\'/contacts/add\\' from base URL || Fill out the form with name, email, and notes -> form_filling_tool -> Fill \\'name\\' with \\'John Doe\\', \\'email\\' with \\'john@example.com\\', and \\'notes\\' with \\'New lead from campaign\\' || Click the submit button -> click_button_by_html -> Find and click button with text \\'Save Contact\\' and type=\\'submit\\'\\n\\nOnly return the result in the required format.\\n'"
      ]
     },
     "execution_count": 229,
     "metadata": {},
     "output_type": "execute_result"
    }
   ],
   "source": [
    "prompt = f\"\"\"\n",
    "You are a workflow planner agent.\n",
    "\n",
    "## Objective:\n",
    "You are given:\n",
    "1. A task to complete.\n",
    "2. A list of natural language steps that must be followed in sequence.\n",
    "3. A list of available tools (functions) in JSON format — each tool has a name and a description.\n",
    "\n",
    "Your job:\n",
    "- Match each step with the most appropriate tool.\n",
    "- Describe the specific action and **arguments/parameters** the tool should use.\n",
    "- Include details like which values are passed in (if relevant).\n",
    "- if there is a form to fill do not have a step to click button to subimt form as filling it would submit it automaticaly\n",
    "---\n",
    "\n",
    "## Task:\n",
    "{wf[\"task\"]}\n",
    "\n",
    "## Steps:\n",
    "{wf[\"workflow_steps\"]}\n",
    "\n",
    "## Input Values (e.g. for forms):\n",
    "{wf.get(\"values\", {})}\n",
    "\n",
    "## Available Tools (in JSON):\n",
    "{state[\"tools\"]}\n",
    "\n",
    "---\n",
    "\n",
    "## Output format:\n",
    "Produce a **single-line string**, no newlines. For each step, use this format:\n",
    "\n",
    "`StepDescription -> ToolName -> DetailedAction`\n",
    "\n",
    "Where:\n",
    "- `StepDescription` is a natural language summary of the step.\n",
    "- `ToolName` is the name of the tool to use.\n",
    "- `DetailedAction` explains exactly what the tool should do, including what arguments or values are used (if applicable).\n",
    "\n",
    "Separate each step with ` || ` (double pipe). Do not add newlines or extra commentary.\n",
    "\n",
    "---\n",
    "\n",
    "## Example Output:\n",
    "Navigate to the contact creation page -> navigate_to_link -> Go to relative URL '/contacts/add' from base URL || Fill out the form with name, email, and notes -> form_filling_tool -> Fill 'name' with 'John Doe', 'email' with 'john@example.com', and 'notes' with 'New lead from campaign' || Click the submit button -> click_button_by_html -> Find and click button with text 'Save Contact' and type='submit'\n",
    "\n",
    "Only return the result in the required format.\n",
    "\"\"\"\n",
    "\n",
    "\n",
    "prompt"
   ]
  },
  {
   "cell_type": "code",
   "execution_count": 230,
   "id": "d2def7a5-faba-40ba-a350-83c7c5251b0f",
   "metadata": {
    "vscode": {
     "languageId": "shellscript"
    }
   },
   "outputs": [],
   "source": [
    "import llm_bridge\n",
    "\n",
    "llm = llm_bridge.Bridge()\n",
    "\n",
    "\n",
    "\n",
    "response = llm.get_response(prompt)"
   ]
  },
  {
   "cell_type": "code",
   "execution_count": 231,
   "id": "912870b4-add7-4254-8af3-f392fc24c3c7",
   "metadata": {
    "vscode": {
     "languageId": "shellscript"
    }
   },
   "outputs": [],
   "source": [
    "toolflow = response.choices[0].message.content\n"
   ]
  },
  {
   "cell_type": "code",
   "execution_count": 232,
   "id": "952a38e0-c822-42f4-bc16-7d608d4b266d",
   "metadata": {
    "vscode": {
     "languageId": "shellscript"
    }
   },
   "outputs": [
    {
     "data": {
      "text/plain": [
       "[\"Navigate to the admin/settings page -> navigate_to_link -> Go to relative URL '/admin/settings' from base URL \",\n",
       " \" Fill out the form with site_name and support_email -> form_filling_tool -> Fill 'site_name' and 'support_email' with provided values, submit the form with POST method to /admin/settings \",\n",
       " \" Verify settings have been saved -> No tool needed as form_filling_tool will submit the form and verify settings have been saved is implicit in the form submission step, hence removed to follow instructions precisely: Navigate to the admin/settings page -> navigate_to_link -> Go to relative URL '/admin/settings' from base URL \",\n",
       " \" Fill out the form with site_name and support_email -> form_filling_tool -> Fill 'site_name' and 'support_email' with provided values, submit the form with POST method to /admin/settings\"]"
      ]
     },
     "execution_count": 232,
     "metadata": {},
     "output_type": "execute_result"
    }
   ],
   "source": [
    "tool_flow_list = toolflow.split(\"||\")\n",
    "tool_flow_list"
   ]
  },
  {
   "cell_type": "code",
   "execution_count": null,
   "id": "d1f7b7ac-6cf2-49c4-b8bc-5fae6845f7f4",
   "metadata": {
    "vscode": {
     "languageId": "shellscript"
    }
   },
   "outputs": [],
   "source": []
  },
  {
   "cell_type": "markdown",
   "id": "4baee450-ee80-458f-b9d4-63bd757d681d",
   "metadata": {},
   "source": [
    "## from tool flow get the node graph required"
   ]
  },
  {
   "cell_type": "code",
   "execution_count": 233,
   "id": "6b7e5b09-7021-4734-b38f-7c39383e1be3",
   "metadata": {
    "vscode": {
     "languageId": "shellscript"
    }
   },
   "outputs": [],
   "source": [
    "tool_registry = {\n",
    "    \"navigate_to_link\": navigate_to_link,\n",
    "    \"form_filling_tool\": form_filling_tool,\n",
    "    \"click_button_by_html\": click_button_by_html\n",
    "}\n"
   ]
  },
  {
   "cell_type": "code",
   "execution_count": 234,
   "id": "a9d2bdd7-6f36-415a-ac0a-dd55f6014093",
   "metadata": {
    "vscode": {
     "languageId": "shellscript"
    }
   },
   "outputs": [],
   "source": [
    "example =  {\n",
    "        \"step\": \"Navigate to the contact creation page\",\n",
    "        \"tool\": \"navigate_to_link\",\n",
    "        \"action\": \"Go to relative URL '/contacts/add' from base URL\"\n",
    "    }"
   ]
  },
  {
   "cell_type": "code",
   "execution_count": 235,
   "id": "2fccf75c-829c-49b0-b32a-ca0b5a08d030",
   "metadata": {
    "vscode": {
     "languageId": "shellscript"
    }
   },
   "outputs": [
    {
     "name": "stdout",
     "output_type": "stream",
     "text": [
      "[\"Navigate to the admin/settings page -> navigate_to_link -> Go to relative URL '/admin/settings' from base URL \", \" Fill out the form with site_name and support_email -> form_filling_tool -> Fill 'site_name' and 'support_email' with provided values, submit the form with POST method to /admin/settings \", \" Verify settings have been saved -> No tool needed as form_filling_tool will submit the form and verify settings have been saved is implicit in the form submission step, hence removed to follow instructions precisely: Navigate to the admin/settings page -> navigate_to_link -> Go to relative URL '/admin/settings' from base URL \", \" Fill out the form with site_name and support_email -> form_filling_tool -> Fill 'site_name' and 'support_email' with provided values, submit the form with POST method to /admin/settings\"]\n",
      "Navigate to the admin/settings page\n",
      "navigate_to_link\n",
      "Go to relative URL '/admin/settings' from base URL\n",
      "Fill out the form with site_name and support_email\n",
      "form_filling_tool\n",
      "Fill 'site_name' and 'support_email' with provided values, submit the form with POST method to /admin/settings\n",
      "Verify settings have been saved\n",
      "No tool needed as form_filling_tool will submit the form and verify settings have been saved is implicit in the form submission step, hence removed to follow instructions precisely: Navigate to the admin/settings page\n",
      "navigate_to_link -> Go to relative URL '/admin/settings' from base URL\n",
      "Fill out the form with site_name and support_email\n",
      "form_filling_tool\n",
      "Fill 'site_name' and 'support_email' with provided values, submit the form with POST method to /admin/settings\n"
     ]
    }
   ],
   "source": [
    "print(tool_flow_list)\n",
    "parsed_plan = []\n",
    "for s in tool_flow_list:\n",
    "    parsed = {}\n",
    "\n",
    "    match = re.match(r\"^(.*?)\\s*->\", s)\n",
    "    if match:\n",
    "        step_description = match.group(1).strip()\n",
    "        print(step_description)\n",
    "\n",
    "    match = re.match(r\"^[^>]*->\\s*([^>]+?)\\s*->\", s)\n",
    "    if match:\n",
    "        tool_name = match.group(1).strip()\n",
    "        print(tool_name)\n",
    "\n",
    "    match = re.match(r\"^[^>]*->[^>]*->\\s*(.*)$\", s)\n",
    "    if match:\n",
    "        action = match.group(1).strip()\n",
    "        print(action)\n",
    "        \n",
    "    parsed['step'] = step_description\n",
    "    parsed['tool'] = tool_name\n",
    "    parsed['action'] = action\n",
    "\n",
    "    parsed_plan.append(parsed)\n",
    "    \n",
    "    \n",
    "    "
   ]
  },
  {
   "cell_type": "code",
   "execution_count": 236,
   "id": "4730a295-38d9-4dfa-88ba-5a4260529d85",
   "metadata": {
    "vscode": {
     "languageId": "shellscript"
    }
   },
   "outputs": [
    {
     "data": {
      "text/plain": [
       "[{'step': 'Navigate to the admin/settings page',\n",
       "  'tool': 'navigate_to_link',\n",
       "  'action': \"Go to relative URL '/admin/settings' from base URL\"},\n",
       " {'step': 'Fill out the form with site_name and support_email',\n",
       "  'tool': 'form_filling_tool',\n",
       "  'action': \"Fill 'site_name' and 'support_email' with provided values, submit the form with POST method to /admin/settings\"},\n",
       " {'step': 'Verify settings have been saved',\n",
       "  'tool': 'No tool needed as form_filling_tool will submit the form and verify settings have been saved is implicit in the form submission step, hence removed to follow instructions precisely: Navigate to the admin/settings page',\n",
       "  'action': \"navigate_to_link -> Go to relative URL '/admin/settings' from base URL\"},\n",
       " {'step': 'Fill out the form with site_name and support_email',\n",
       "  'tool': 'form_filling_tool',\n",
       "  'action': \"Fill 'site_name' and 'support_email' with provided values, submit the form with POST method to /admin/settings\"}]"
      ]
     },
     "execution_count": 236,
     "metadata": {},
     "output_type": "execute_result"
    }
   ],
   "source": [
    "parsed_plan"
   ]
  },
  {
   "cell_type": "code",
   "execution_count": 237,
   "id": "76e0ab5e",
   "metadata": {
    "vscode": {
     "languageId": "shellscript"
    }
   },
   "outputs": [
    {
     "data": {
      "text/plain": [
       "'<!DOCTYPE html><html lang=\"en\"><head>\\n    <meta charset=\"UTF-8\">\\n    <title>MiniCRM</title>\\n    <link rel=\"stylesheet\" href=\"/static/style.css\">\\n</head>\\n<body>\\n    <header>\\n        <h1>MiniCRM Dashboard</h1>\\n        <nav>\\n            <a href=\"/dashboard\">🏠 Dashboard</a> |\\n            <a href=\"/contacts\">📇 Contacts</a> |\\n            <a href=\"/tickets\">🎫 Tickets</a> |\\n            <a href=\"/admin\">⚙️ Admin</a>\\n        </nav>\\n        <hr>\\n    </header>\\n\\n    \\n      \\n    \\n\\n    <main>\\n        \\n<h2>🔍 Search Results</h2>\\n\\n\\n    <p>No matching contacts found.</p>\\n\\n\\n<p><a href=\"/contacts\">← Back to Contacts</a></p>\\n\\n    </main>\\n\\n</body></html>'"
      ]
     },
     "execution_count": 237,
     "metadata": {},
     "output_type": "execute_result"
    }
   ],
   "source": [
    "content = await page.content()\n",
    "content"
   ]
  },
  {
   "cell_type": "code",
   "execution_count": 238,
   "id": "f050d5fd",
   "metadata": {
    "vscode": {
     "languageId": "shellscript"
    }
   },
   "outputs": [],
   "source": [
    "def get_json_from_output(text):\n",
    "    match = re.search(r'```json\\s*(\\{.*?\\})\\s*```', text, re.DOTALL)\n",
    "\n",
    "    if match:\n",
    "        json_str = match.group(1)\n",
    "        json_data = json.loads(json_str)\n",
    "        # print(json_data)\n",
    "    else:\n",
    "        print(\"No JSON found.\")\n",
    "    \n",
    "    return json_data\n",
    "\n",
    "json_data = get_json_from_output(text)"
   ]
  },
  {
   "cell_type": "code",
   "execution_count": 239,
   "id": "5dac00f0-4cb7-4882-84f4-245ab3aa35cd",
   "metadata": {
    "vscode": {
     "languageId": "shellscript"
    }
   },
   "outputs": [],
   "source": [
    "from langchain_core.prompts import PromptTemplate\n",
    "from langchain.chains import LLMChain\n",
    "import json\n",
    "\n",
    "# 1. Define your LLM\n",
    "from langchain_groq import ChatGroq\n",
    "from langchain.prompts import PromptTemplate\n",
    "from langchain.chains import LLMChain\n",
    "from dotenv import load_dotenv\n",
    "import os\n",
    "\n",
    "load_dotenv(dotenv_path=\"./.env\")\n",
    "\n",
    "\n",
    "GROQ_API_KEY = os.environ.get(\"GROQ_API_KEY\")\n",
    "\n",
    "# Groq model setup (e.g., Mixtral)\n",
    "llm = ChatGroq(\n",
    "    temperature=0,\n",
    "    model_name=\"llama-3.3-70b-versatile\",  # or gemma-7b-it, llama3-8b-8192\n",
    "    groq_api_key=GROQ_API_KEY # or set via env variable\n",
    ")\n",
    "\n",
    "\n",
    "\n",
    "\n",
    "\n",
    "\n",
    "\n",
    "\n",
    "\n",
    "# 2. Define the agent's prompt\n",
    "prompt = PromptTemplate.from_template(\"\"\"\n",
    "You are an automation agent. Your job is to decide which tool to use and what values to fill in, based on the page's HTML and the current step.\n",
    "\n",
    "Available tools:\n",
    "- navigate_to_link\n",
    "- form_filling_tool\n",
    "- click_button_by_html\n",
    "\n",
    "Each tool has its own input format:\n",
    "- navigate_to_link: {{ \"relative_url\": \"...\" }}\n",
    "- form_filling_tool: {{ \"form_html\": \"...\", \"values\": {{ \"name\": \"...\", \"email\": \"...\", \"notes\": \"...\" }} }}\n",
    "- click_button_by_html: {{ \"button_html\": \"...\" }}\n",
    "\n",
    "Reply with a JSON object:\n",
    "{{ \"tool\": \"...\", \"tool_args\": {{ ... }} }}\n",
    "\n",
    "\n",
    "only when filling form fill the empty values with some examples \n",
    "\n",
    "\n",
    "Step: {step_description}\n",
    "\n",
    "Action for the agent to do : {step_action}\n",
    "Current Page HTML:\n",
    "{page_html}\n",
    "\n",
    "\n",
    "- Choose the correct tool and provide only the **required minimal arguments**.\n",
    "- Wrap the final output in **markdown-style fenced code block** with `json`, like this:\n",
    "- fill the form values with dummy names\n",
    "\n",
    "```json\n",
    "```\n",
    "\n",
    "\n",
    "\n",
    "\n",
    "\"\"\")\n",
    "\n",
    "\n",
    "\n",
    "\n",
    "\n",
    "\n",
    "# 3. Wrap in LLMChain\n",
    "agent = LLMChain(llm=llm, prompt=prompt)\n",
    "\n",
    "# 4. Your function with the agent integrated\n",
    "async def run_plan(parsed_plan, initial_page_html):\n",
    "    state = {\n",
    "        \"home_url\":\"http://127.0.0.1:5000/\",\n",
    "        \"page\":page,\n",
    "        \"page_html\": initial_page_html,\n",
    "        \"current_step\": 0,\n",
    "        \"history\": []\n",
    "    }\n",
    "\n",
    "    for idx, step_info in enumerate(parsed_plan):\n",
    "        print(f\"\\n➡️ Step {idx+1}: {step_info['step']}\")\n",
    "\n",
    "        page_html = state[\"page_html\"]\n",
    "        step_description = step_info[\"step\"]\n",
    "        step_action =  step_info[\"action\"]\n",
    "        # 5. LLM agent input\n",
    "        agent_input = {\n",
    "            \"page_html\": page_html,\n",
    "            \"step_description\": step_description,\n",
    "            \"step_action\": step_action\n",
    "            \n",
    "        }\n",
    "\n",
    "        # 6. Use LLM agent to choose tool and args\n",
    "        # decision_raw = await agent.ainvoke(agent_input)\n",
    "        # print(decision_raw)\n",
    "        # decision = json.loads(decision_raw[\"text\"]) \n",
    "\n",
    "        try:\n",
    "            decision_raw = await agent.ainvoke(agent_input)\n",
    "            print(f\"AGENT OUTPUT : {decision_raw} \\n\\n\")\n",
    "             # assumes LLMChain returns text field\n",
    "            \n",
    "        except Exception as e:\n",
    "            print(f\"❌ Failed to get response from agent: {e}\")\n",
    "            break\n",
    "\n",
    "\n",
    "        try:\n",
    "            decision = get_json_from_output(decision_raw[\"text\"]) \n",
    "            print(f\" EXTRACTED JSON : {decision}\")\n",
    "        except Exception as e:\n",
    "            print(f\"❌ Failed to parse agent output: {e}\")\n",
    "        \n",
    "        \n",
    "\n",
    "        tool_name = decision.get(\"tool\")\n",
    "        tool_args = decision.get(\"tool_args\", {})\n",
    "        tool_args['state'] = state\n",
    "        tool_func = tool_registry.get(tool_name)\n",
    "\n",
    "\n",
    "        print(f\"TOOL DETAILS : TOOL_NAME -> {tool_name} | TOOL_ARGS  -> {tool_args} | REGISTRY FUNC -> {tool_func} \")\n",
    "\n",
    "        if tool_func is None:\n",
    "            print(f\"❌ Tool '{tool_name}' not found\")\n",
    "            break\n",
    "\n",
    "        result = await tool_func.ainvoke(tool_args)\n",
    "        new_page_html = result.get(\"new_page_html\", page_html)\n",
    "            \n",
    "        \n",
    "        \n",
    "        \n",
    "        try:\n",
    "            print(f\"🔧 Running tool: {tool_name}\")\n",
    "            \n",
    "            result = await tool_func.ainvoke(tool_args)\n",
    "            new_page_html = result.get(\"new_page_html\", page_html)\n",
    "\n",
    "        except Exception as e:\n",
    "            print(f\"❌ Error running tool: {e}\")\n",
    "            break\n",
    "\n",
    "        # 7. Update state\n",
    "        state[\"history\"].append({\n",
    "            \"step\": step_info[\"step\"],\n",
    "            \"tool\": tool_name,\n",
    "            \"args\": tool_args,\n",
    "            \"result\": result\n",
    "        })\n",
    "        state[\"page_html\"] = new_page_html\n",
    "        state[\"current_step\"] += 1\n",
    "\n",
    "    print(\"✅ All steps executed.\")\n",
    "    return state\n"
   ]
  },
  {
   "cell_type": "code",
   "execution_count": 240,
   "id": "f982a239-7821-4a73-8999-22508c3e4a12",
   "metadata": {
    "vscode": {
     "languageId": "shellscript"
    }
   },
   "outputs": [
    {
     "name": "stdout",
     "output_type": "stream",
     "text": [
      "\n",
      "➡️ Step 1: Navigate to the admin/settings page\n",
      "AGENT OUTPUT : {'page_html': '<!DOCTYPE html><html lang=\"en\"><head>\\n    <meta charset=\"UTF-8\">\\n    <title>MiniCRM</title>\\n    <link rel=\"stylesheet\" href=\"/static/style.css\">\\n</head>\\n<body>\\n    <header>\\n        <h1>MiniCRM Dashboard</h1>\\n        <nav>\\n            <a href=\"/dashboard\">🏠 Dashboard</a> |\\n            <a href=\"/contacts\">📇 Contacts</a> |\\n            <a href=\"/tickets\">🎫 Tickets</a> |\\n            <a href=\"/admin\">⚙️ Admin</a>\\n        </nav>\\n        <hr>\\n    </header>\\n\\n    \\n      \\n    \\n\\n    <main>\\n        \\n<h2>🔍 Search Results</h2>\\n\\n\\n    <p>No matching contacts found.</p>\\n\\n\\n<p><a href=\"/contacts\">← Back to Contacts</a></p>\\n\\n    </main>\\n\\n</body></html>', 'step_description': 'Navigate to the admin/settings page', 'step_action': \"Go to relative URL '/admin/settings' from base URL\", 'text': '```json\\n{\\n    \"tool\": \"navigate_to_link\",\\n    \"tool_args\": {\\n        \"relative_url\": \"/admin/settings\"\\n    }\\n}\\n```'} \n",
      "\n",
      "\n",
      " EXTRACTED JSON : {'tool': 'navigate_to_link', 'tool_args': {'relative_url': '/admin/settings'}}\n",
      "TOOL DETAILS : TOOL_NAME -> navigate_to_link | TOOL_ARGS  -> {'relative_url': '/admin/settings', 'state': {'home_url': 'http://127.0.0.1:5000/', 'page': <pyppeteer.page.Page object at 0x70dd0b3c8770>, 'page_html': '<!DOCTYPE html><html lang=\"en\"><head>\\n    <meta charset=\"UTF-8\">\\n    <title>MiniCRM</title>\\n    <link rel=\"stylesheet\" href=\"/static/style.css\">\\n</head>\\n<body>\\n    <header>\\n        <h1>MiniCRM Dashboard</h1>\\n        <nav>\\n            <a href=\"/dashboard\">🏠 Dashboard</a> |\\n            <a href=\"/contacts\">📇 Contacts</a> |\\n            <a href=\"/tickets\">🎫 Tickets</a> |\\n            <a href=\"/admin\">⚙️ Admin</a>\\n        </nav>\\n        <hr>\\n    </header>\\n\\n    \\n      \\n    \\n\\n    <main>\\n        \\n<h2>🔍 Search Results</h2>\\n\\n\\n    <p>No matching contacts found.</p>\\n\\n\\n<p><a href=\"/contacts\">← Back to Contacts</a></p>\\n\\n    </main>\\n\\n</body></html>', 'current_step': 0, 'history': []}} | REGISTRY FUNC -> name='navigate_to_link' description='Navigate to a selected link (relative path like \\'/dashboard\\')\\nArgs:\\n    state (dict): Must contain a Puppeteer page object in `state[\"page\"]`\\n    relative_url (str): e.g. \\'/dashboard\\'\\nReturns:\\n    dict: Updated state with last action' args_schema=<class 'langchain_core.utils.pydantic.navigate_to_link'> coroutine=<function navigate_to_link at 0x70dd081eb560> \n",
      "🔧 Running tool: navigate_to_link\n",
      "\n",
      "➡️ Step 2: Fill out the form with site_name and support_email\n",
      "AGENT OUTPUT : {'page_html': '<!DOCTYPE html><html lang=\"en\"><head>\\n    <meta charset=\"UTF-8\">\\n    <title>MiniCRM</title>\\n    <link rel=\"stylesheet\" href=\"/static/style.css\">\\n</head>\\n<body>\\n    <header>\\n        <h1>MiniCRM Dashboard</h1>\\n        <nav>\\n            <a href=\"/dashboard\">🏠 Dashboard</a> |\\n            <a href=\"/contacts\">📇 Contacts</a> |\\n            <a href=\"/tickets\">🎫 Tickets</a> |\\n            <a href=\"/admin\">⚙️ Admin</a>\\n        </nav>\\n        <hr>\\n    </header>\\n\\n    \\n      \\n    \\n\\n    <main>\\n        \\n<h2>🔍 Search Results</h2>\\n\\n\\n    <p>No matching contacts found.</p>\\n\\n\\n<p><a href=\"/contacts\">← Back to Contacts</a></p>\\n\\n    </main>\\n\\n</body></html>', 'step_description': 'Fill out the form with site_name and support_email', 'step_action': \"Fill 'site_name' and 'support_email' with provided values, submit the form with POST method to /admin/settings\", 'text': '```json\\n{\\n    \"tool\": \"form_filling_tool\",\\n    \"tool_args\": {\\n        \"form_html\": \"<form method=\\'POST\\' action=\\'/admin/settings\\'><input name=\\'site_name\\' type=\\'text\\'><input name=\\'support_email\\' type=\\'email\\'><button type=\\'submit\\'>Submit</button></form>\",\\n        \"values\": {\\n            \"site_name\": \"example_site\",\\n            \"email\": \"\",\\n            \"notes\": \"\"\\n        }\\n    }\\n}\\n```'} \n",
      "\n",
      "\n",
      " EXTRACTED JSON : {'tool': 'form_filling_tool', 'tool_args': {'form_html': \"<form method='POST' action='/admin/settings'><input name='site_name' type='text'><input name='support_email' type='email'><button type='submit'>Submit</button></form>\", 'values': {'site_name': 'example_site', 'email': '', 'notes': ''}}}\n",
      "TOOL DETAILS : TOOL_NAME -> form_filling_tool | TOOL_ARGS  -> {'form_html': \"<form method='POST' action='/admin/settings'><input name='site_name' type='text'><input name='support_email' type='email'><button type='submit'>Submit</button></form>\", 'values': {'site_name': 'example_site', 'email': '', 'notes': ''}, 'state': {'home_url': 'http://127.0.0.1:5000/', 'page': <pyppeteer.page.Page object at 0x70dd0b3c8770>, 'page_html': '<!DOCTYPE html><html lang=\"en\"><head>\\n    <meta charset=\"UTF-8\">\\n    <title>MiniCRM</title>\\n    <link rel=\"stylesheet\" href=\"/static/style.css\">\\n</head>\\n<body>\\n    <header>\\n        <h1>MiniCRM Dashboard</h1>\\n        <nav>\\n            <a href=\"/dashboard\">🏠 Dashboard</a> |\\n            <a href=\"/contacts\">📇 Contacts</a> |\\n            <a href=\"/tickets\">🎫 Tickets</a> |\\n            <a href=\"/admin\">⚙️ Admin</a>\\n        </nav>\\n        <hr>\\n    </header>\\n\\n    \\n      \\n    \\n\\n    <main>\\n        \\n<h2>🔍 Search Results</h2>\\n\\n\\n    <p>No matching contacts found.</p>\\n\\n\\n<p><a href=\"/contacts\">← Back to Contacts</a></p>\\n\\n    </main>\\n\\n</body></html>', 'current_step': 1, 'history': [{'step': 'Navigate to the admin/settings page', 'tool': 'navigate_to_link', 'args': {'relative_url': '/admin/settings', 'state': {...}}, 'result': {'home_url': 'http://127.0.0.1:5000/', 'page': <pyppeteer.page.Page object at 0x70dd0b3c8770>, 'page_html': '<!DOCTYPE html><html lang=\"en\"><head>\\n    <meta charset=\"UTF-8\">\\n    <title>MiniCRM</title>\\n    <link rel=\"stylesheet\" href=\"/static/style.css\">\\n</head>\\n<body>\\n    <header>\\n        <h1>MiniCRM Dashboard</h1>\\n        <nav>\\n            <a href=\"/dashboard\">🏠 Dashboard</a> |\\n            <a href=\"/contacts\">📇 Contacts</a> |\\n            <a href=\"/tickets\">🎫 Tickets</a> |\\n            <a href=\"/admin\">⚙️ Admin</a>\\n        </nav>\\n        <hr>\\n    </header>\\n\\n    \\n      \\n    \\n\\n    <main>\\n        \\n<h2>🔍 Search Results</h2>\\n\\n\\n    <p>No matching contacts found.</p>\\n\\n\\n<p><a href=\"/contacts\">← Back to Contacts</a></p>\\n\\n    </main>\\n\\n</body></html>', 'current_step': 0, 'history': [...], 'curr_url': 'http://127.0.0.1:5000/admin/settings', 'last_action': '✅ Navigated to http://127.0.0.1:5000/admin/settings'}}]}} | REGISTRY FUNC -> name='form_filling_tool' description='Fill out and submit a form using the parsed input names and user-provided values.\\n\\nArgs:\\n    state: LangGraph agent state with a Puppeteer page\\n    form_html: HTML string of the <form>\\n    values: Dict of field names and their values (e.g., {\"name\": \"John\", \"email\": \"john@example.com\"})' args_schema=<class 'langchain_core.utils.pydantic.form_filling_tool'> coroutine=<function form_filling_tool at 0x70dd081e8b80> \n",
      "input[name=\"site_name\"], textarea[name=\"site_name\"]\n",
      "🔧 Running tool: form_filling_tool\n",
      "input[name=\"site_name\"], textarea[name=\"site_name\"]\n",
      "\n",
      "➡️ Step 3: Verify settings have been saved\n",
      "AGENT OUTPUT : {'page_html': '<!DOCTYPE html><html lang=\"en\"><head>\\n    <meta charset=\"UTF-8\">\\n    <title>MiniCRM</title>\\n    <link rel=\"stylesheet\" href=\"/static/style.css\">\\n</head>\\n<body>\\n    <header>\\n        <h1>MiniCRM Dashboard</h1>\\n        <nav>\\n            <a href=\"/dashboard\">🏠 Dashboard</a> |\\n            <a href=\"/contacts\">📇 Contacts</a> |\\n            <a href=\"/tickets\">🎫 Tickets</a> |\\n            <a href=\"/admin\">⚙️ Admin</a>\\n        </nav>\\n        <hr>\\n    </header>\\n\\n    \\n      \\n    \\n\\n    <main>\\n        \\n<h2>🔍 Search Results</h2>\\n\\n\\n    <p>No matching contacts found.</p>\\n\\n\\n<p><a href=\"/contacts\">← Back to Contacts</a></p>\\n\\n    </main>\\n\\n</body></html>', 'step_description': 'Verify settings have been saved', 'step_action': \"navigate_to_link -> Go to relative URL '/admin/settings' from base URL\", 'text': '```json\\n{\\n    \"tool\": \"navigate_to_link\",\\n    \"tool_args\": {\\n        \"relative_url\": \"/admin/settings\"\\n    }\\n}\\n```'} \n",
      "\n",
      "\n",
      " EXTRACTED JSON : {'tool': 'navigate_to_link', 'tool_args': {'relative_url': '/admin/settings'}}\n",
      "TOOL DETAILS : TOOL_NAME -> navigate_to_link | TOOL_ARGS  -> {'relative_url': '/admin/settings', 'state': {'home_url': 'http://127.0.0.1:5000/', 'page': <pyppeteer.page.Page object at 0x70dd0b3c8770>, 'page_html': '<!DOCTYPE html><html lang=\"en\"><head>\\n    <meta charset=\"UTF-8\">\\n    <title>MiniCRM</title>\\n    <link rel=\"stylesheet\" href=\"/static/style.css\">\\n</head>\\n<body>\\n    <header>\\n        <h1>MiniCRM Dashboard</h1>\\n        <nav>\\n            <a href=\"/dashboard\">🏠 Dashboard</a> |\\n            <a href=\"/contacts\">📇 Contacts</a> |\\n            <a href=\"/tickets\">🎫 Tickets</a> |\\n            <a href=\"/admin\">⚙️ Admin</a>\\n        </nav>\\n        <hr>\\n    </header>\\n\\n    \\n      \\n    \\n\\n    <main>\\n        \\n<h2>🔍 Search Results</h2>\\n\\n\\n    <p>No matching contacts found.</p>\\n\\n\\n<p><a href=\"/contacts\">← Back to Contacts</a></p>\\n\\n    </main>\\n\\n</body></html>', 'current_step': 2, 'history': [{'step': 'Navigate to the admin/settings page', 'tool': 'navigate_to_link', 'args': {'relative_url': '/admin/settings', 'state': {...}}, 'result': {'home_url': 'http://127.0.0.1:5000/', 'page': <pyppeteer.page.Page object at 0x70dd0b3c8770>, 'page_html': '<!DOCTYPE html><html lang=\"en\"><head>\\n    <meta charset=\"UTF-8\">\\n    <title>MiniCRM</title>\\n    <link rel=\"stylesheet\" href=\"/static/style.css\">\\n</head>\\n<body>\\n    <header>\\n        <h1>MiniCRM Dashboard</h1>\\n        <nav>\\n            <a href=\"/dashboard\">🏠 Dashboard</a> |\\n            <a href=\"/contacts\">📇 Contacts</a> |\\n            <a href=\"/tickets\">🎫 Tickets</a> |\\n            <a href=\"/admin\">⚙️ Admin</a>\\n        </nav>\\n        <hr>\\n    </header>\\n\\n    \\n      \\n    \\n\\n    <main>\\n        \\n<h2>🔍 Search Results</h2>\\n\\n\\n    <p>No matching contacts found.</p>\\n\\n\\n<p><a href=\"/contacts\">← Back to Contacts</a></p>\\n\\n    </main>\\n\\n</body></html>', 'current_step': 0, 'history': [...], 'curr_url': 'http://127.0.0.1:5000/admin/settings', 'last_action': '✅ Navigated to http://127.0.0.1:5000/admin/settings'}}, {'step': 'Fill out the form with site_name and support_email', 'tool': 'form_filling_tool', 'args': {'form_html': \"<form method='POST' action='/admin/settings'><input name='site_name' type='text'><input name='support_email' type='email'><button type='submit'>Submit</button></form>\", 'values': {'site_name': 'example_site', 'email': '', 'notes': ''}, 'state': {...}}, 'result': {'home_url': 'http://127.0.0.1:5000/', 'page': <pyppeteer.page.Page object at 0x70dd0b3c8770>, 'page_html': '<!DOCTYPE html><html lang=\"en\"><head>\\n    <meta charset=\"UTF-8\">\\n    <title>MiniCRM</title>\\n    <link rel=\"stylesheet\" href=\"/static/style.css\">\\n</head>\\n<body>\\n    <header>\\n        <h1>MiniCRM Dashboard</h1>\\n        <nav>\\n            <a href=\"/dashboard\">🏠 Dashboard</a> |\\n            <a href=\"/contacts\">📇 Contacts</a> |\\n            <a href=\"/tickets\">🎫 Tickets</a> |\\n            <a href=\"/admin\">⚙️ Admin</a>\\n        </nav>\\n        <hr>\\n    </header>\\n\\n    \\n      \\n    \\n\\n    <main>\\n        \\n<h2>🔍 Search Results</h2>\\n\\n\\n    <p>No matching contacts found.</p>\\n\\n\\n<p><a href=\"/contacts\">← Back to Contacts</a></p>\\n\\n    </main>\\n\\n</body></html>', 'current_step': 1, 'history': [...], 'last_action': '⚠️ Failed to submit form: Navigation Timeout Exceeded: 5000 ms exceeded.'}}]}} | REGISTRY FUNC -> name='navigate_to_link' description='Navigate to a selected link (relative path like \\'/dashboard\\')\\nArgs:\\n    state (dict): Must contain a Puppeteer page object in `state[\"page\"]`\\n    relative_url (str): e.g. \\'/dashboard\\'\\nReturns:\\n    dict: Updated state with last action' args_schema=<class 'langchain_core.utils.pydantic.navigate_to_link'> coroutine=<function navigate_to_link at 0x70dd081eb560> \n",
      "🔧 Running tool: navigate_to_link\n",
      "\n",
      "➡️ Step 4: Fill out the form with site_name and support_email\n",
      "AGENT OUTPUT : {'page_html': '<!DOCTYPE html><html lang=\"en\"><head>\\n    <meta charset=\"UTF-8\">\\n    <title>MiniCRM</title>\\n    <link rel=\"stylesheet\" href=\"/static/style.css\">\\n</head>\\n<body>\\n    <header>\\n        <h1>MiniCRM Dashboard</h1>\\n        <nav>\\n            <a href=\"/dashboard\">🏠 Dashboard</a> |\\n            <a href=\"/contacts\">📇 Contacts</a> |\\n            <a href=\"/tickets\">🎫 Tickets</a> |\\n            <a href=\"/admin\">⚙️ Admin</a>\\n        </nav>\\n        <hr>\\n    </header>\\n\\n    \\n      \\n    \\n\\n    <main>\\n        \\n<h2>🔍 Search Results</h2>\\n\\n\\n    <p>No matching contacts found.</p>\\n\\n\\n<p><a href=\"/contacts\">← Back to Contacts</a></p>\\n\\n    </main>\\n\\n</body></html>', 'step_description': 'Fill out the form with site_name and support_email', 'step_action': \"Fill 'site_name' and 'support_email' with provided values, submit the form with POST method to /admin/settings\", 'text': '```json\\n{\\n    \"tool\": \"form_filling_tool\",\\n    \"tool_args\": {\\n        \"form_html\": \"<form method=\\'POST\\' action=\\'/admin/settings\\'><input name=\\'site_name\\' type=\\'text\\'><input name=\\'support_email\\' type=\\'email\\'><button type=\\'submit\\'>Submit</button></form>\",\\n        \"values\": {\\n            \"site_name\": \"example_site\",\\n            \"email\": \"\",\\n            \"notes\": \"\"\\n        }\\n    }\\n}\\n```'} \n",
      "\n",
      "\n",
      " EXTRACTED JSON : {'tool': 'form_filling_tool', 'tool_args': {'form_html': \"<form method='POST' action='/admin/settings'><input name='site_name' type='text'><input name='support_email' type='email'><button type='submit'>Submit</button></form>\", 'values': {'site_name': 'example_site', 'email': '', 'notes': ''}}}\n",
      "TOOL DETAILS : TOOL_NAME -> form_filling_tool | TOOL_ARGS  -> {'form_html': \"<form method='POST' action='/admin/settings'><input name='site_name' type='text'><input name='support_email' type='email'><button type='submit'>Submit</button></form>\", 'values': {'site_name': 'example_site', 'email': '', 'notes': ''}, 'state': {'home_url': 'http://127.0.0.1:5000/', 'page': <pyppeteer.page.Page object at 0x70dd0b3c8770>, 'page_html': '<!DOCTYPE html><html lang=\"en\"><head>\\n    <meta charset=\"UTF-8\">\\n    <title>MiniCRM</title>\\n    <link rel=\"stylesheet\" href=\"/static/style.css\">\\n</head>\\n<body>\\n    <header>\\n        <h1>MiniCRM Dashboard</h1>\\n        <nav>\\n            <a href=\"/dashboard\">🏠 Dashboard</a> |\\n            <a href=\"/contacts\">📇 Contacts</a> |\\n            <a href=\"/tickets\">🎫 Tickets</a> |\\n            <a href=\"/admin\">⚙️ Admin</a>\\n        </nav>\\n        <hr>\\n    </header>\\n\\n    \\n      \\n    \\n\\n    <main>\\n        \\n<h2>🔍 Search Results</h2>\\n\\n\\n    <p>No matching contacts found.</p>\\n\\n\\n<p><a href=\"/contacts\">← Back to Contacts</a></p>\\n\\n    </main>\\n\\n</body></html>', 'current_step': 3, 'history': [{'step': 'Navigate to the admin/settings page', 'tool': 'navigate_to_link', 'args': {'relative_url': '/admin/settings', 'state': {...}}, 'result': {'home_url': 'http://127.0.0.1:5000/', 'page': <pyppeteer.page.Page object at 0x70dd0b3c8770>, 'page_html': '<!DOCTYPE html><html lang=\"en\"><head>\\n    <meta charset=\"UTF-8\">\\n    <title>MiniCRM</title>\\n    <link rel=\"stylesheet\" href=\"/static/style.css\">\\n</head>\\n<body>\\n    <header>\\n        <h1>MiniCRM Dashboard</h1>\\n        <nav>\\n            <a href=\"/dashboard\">🏠 Dashboard</a> |\\n            <a href=\"/contacts\">📇 Contacts</a> |\\n            <a href=\"/tickets\">🎫 Tickets</a> |\\n            <a href=\"/admin\">⚙️ Admin</a>\\n        </nav>\\n        <hr>\\n    </header>\\n\\n    \\n      \\n    \\n\\n    <main>\\n        \\n<h2>🔍 Search Results</h2>\\n\\n\\n    <p>No matching contacts found.</p>\\n\\n\\n<p><a href=\"/contacts\">← Back to Contacts</a></p>\\n\\n    </main>\\n\\n</body></html>', 'current_step': 0, 'history': [...], 'curr_url': 'http://127.0.0.1:5000/admin/settings', 'last_action': '✅ Navigated to http://127.0.0.1:5000/admin/settings'}}, {'step': 'Fill out the form with site_name and support_email', 'tool': 'form_filling_tool', 'args': {'form_html': \"<form method='POST' action='/admin/settings'><input name='site_name' type='text'><input name='support_email' type='email'><button type='submit'>Submit</button></form>\", 'values': {'site_name': 'example_site', 'email': '', 'notes': ''}, 'state': {...}}, 'result': {'home_url': 'http://127.0.0.1:5000/', 'page': <pyppeteer.page.Page object at 0x70dd0b3c8770>, 'page_html': '<!DOCTYPE html><html lang=\"en\"><head>\\n    <meta charset=\"UTF-8\">\\n    <title>MiniCRM</title>\\n    <link rel=\"stylesheet\" href=\"/static/style.css\">\\n</head>\\n<body>\\n    <header>\\n        <h1>MiniCRM Dashboard</h1>\\n        <nav>\\n            <a href=\"/dashboard\">🏠 Dashboard</a> |\\n            <a href=\"/contacts\">📇 Contacts</a> |\\n            <a href=\"/tickets\">🎫 Tickets</a> |\\n            <a href=\"/admin\">⚙️ Admin</a>\\n        </nav>\\n        <hr>\\n    </header>\\n\\n    \\n      \\n    \\n\\n    <main>\\n        \\n<h2>🔍 Search Results</h2>\\n\\n\\n    <p>No matching contacts found.</p>\\n\\n\\n<p><a href=\"/contacts\">← Back to Contacts</a></p>\\n\\n    </main>\\n\\n</body></html>', 'current_step': 1, 'history': [...], 'last_action': '⚠️ Failed to submit form: Navigation Timeout Exceeded: 5000 ms exceeded.'}}, {'step': 'Verify settings have been saved', 'tool': 'navigate_to_link', 'args': {'relative_url': '/admin/settings', 'state': {...}}, 'result': {'home_url': 'http://127.0.0.1:5000/', 'page': <pyppeteer.page.Page object at 0x70dd0b3c8770>, 'page_html': '<!DOCTYPE html><html lang=\"en\"><head>\\n    <meta charset=\"UTF-8\">\\n    <title>MiniCRM</title>\\n    <link rel=\"stylesheet\" href=\"/static/style.css\">\\n</head>\\n<body>\\n    <header>\\n        <h1>MiniCRM Dashboard</h1>\\n        <nav>\\n            <a href=\"/dashboard\">🏠 Dashboard</a> |\\n            <a href=\"/contacts\">📇 Contacts</a> |\\n            <a href=\"/tickets\">🎫 Tickets</a> |\\n            <a href=\"/admin\">⚙️ Admin</a>\\n        </nav>\\n        <hr>\\n    </header>\\n\\n    \\n      \\n    \\n\\n    <main>\\n        \\n<h2>🔍 Search Results</h2>\\n\\n\\n    <p>No matching contacts found.</p>\\n\\n\\n<p><a href=\"/contacts\">← Back to Contacts</a></p>\\n\\n    </main>\\n\\n</body></html>', 'current_step': 2, 'history': [...], 'curr_url': 'http://127.0.0.1:5000/admin/settings', 'last_action': '✅ Navigated to http://127.0.0.1:5000/admin/settings'}}]}} | REGISTRY FUNC -> name='form_filling_tool' description='Fill out and submit a form using the parsed input names and user-provided values.\\n\\nArgs:\\n    state: LangGraph agent state with a Puppeteer page\\n    form_html: HTML string of the <form>\\n    values: Dict of field names and their values (e.g., {\"name\": \"John\", \"email\": \"john@example.com\"})' args_schema=<class 'langchain_core.utils.pydantic.form_filling_tool'> coroutine=<function form_filling_tool at 0x70dd081e8b80> \n",
      "input[name=\"site_name\"], textarea[name=\"site_name\"]\n",
      "🔧 Running tool: form_filling_tool\n",
      "input[name=\"site_name\"], textarea[name=\"site_name\"]\n",
      "✅ All steps executed.\n"
     ]
    }
   ],
   "source": [
    "state = await run_plan(parsed_plan, content)"
   ]
  },
  {
   "cell_type": "code",
   "execution_count": null,
   "id": "7e4a49f1",
   "metadata": {
    "vscode": {
     "languageId": "shellscript"
    }
   },
   "outputs": [],
   "source": []
  },
  {
   "cell_type": "code",
   "execution_count": null,
   "id": "7da0ab66",
   "metadata": {
    "vscode": {
     "languageId": "shellscript"
    }
   },
   "outputs": [],
   "source": []
  },
  {
   "cell_type": "code",
   "execution_count": null,
   "id": "4d3ad3d1",
   "metadata": {
    "vscode": {
     "languageId": "shellscript"
    }
   },
   "outputs": [
    {
     "data": {
      "text/plain": [
       "'navigate_to_link'"
      ]
     },
     "execution_count": 74,
     "metadata": {},
     "output_type": "execute_result"
    }
   ],
   "source": []
  },
  {
   "cell_type": "code",
   "execution_count": null,
   "id": "83dd76e1",
   "metadata": {
    "vscode": {
     "languageId": "shellscript"
    }
   },
   "outputs": [],
   "source": []
  },
  {
   "cell_type": "code",
   "execution_count": null,
   "id": "cde9bb50",
   "metadata": {
    "vscode": {
     "languageId": "shellscript"
    }
   },
   "outputs": [],
   "source": []
  },
  {
   "cell_type": "code",
   "execution_count": null,
   "id": "a923af6b",
   "metadata": {
    "vscode": {
     "languageId": "shellscript"
    }
   },
   "outputs": [],
   "source": []
  },
  {
   "cell_type": "code",
   "execution_count": null,
   "id": "77fd423d",
   "metadata": {
    "vscode": {
     "languageId": "shellscript"
    }
   },
   "outputs": [],
   "source": []
  },
  {
   "cell_type": "markdown",
   "id": "23378af1-20bd-42db-a0ac-28d6bb2c1a1a",
   "metadata": {},
   "source": [
    "## EXECUTING THE WORkFLOW STEPS"
   ]
  },
  {
   "cell_type": "code",
   "execution_count": null,
   "id": "94940802-7cac-46b1-a26b-6194e8a2bb3e",
   "metadata": {
    "vscode": {
     "languageId": "shellscript"
    }
   },
   "outputs": [
    {
     "ename": "",
     "evalue": "",
     "output_type": "error",
     "traceback": [
      "\u001b[1;31mnotebook controller is DISPOSED. \n",
      "\u001b[1;31mView Jupyter <a href='command:jupyter.viewOutput'>log</a> for further details."
     ]
    }
   ],
   "source": []
  },
  {
   "cell_type": "code",
   "execution_count": null,
   "id": "e7b5eebf-0c85-412d-b1a9-92974784bb09",
   "metadata": {
    "vscode": {
     "languageId": "shellscript"
    }
   },
   "outputs": [
    {
     "ename": "",
     "evalue": "",
     "output_type": "error",
     "traceback": [
      "\u001b[1;31mnotebook controller is DISPOSED. \n",
      "\u001b[1;31mView Jupyter <a href='command:jupyter.viewOutput'>log</a> for further details."
     ]
    }
   ],
   "source": []
  },
  {
   "cell_type": "markdown",
   "id": "8c9e52dd-30dd-4547-9fb2-fab225394fa9",
   "metadata": {},
   "source": [
    "### function for taking one step "
   ]
  },
  {
   "cell_type": "code",
   "execution_count": null,
   "id": "bc42e190-d284-4048-a085-3bc22cbec7bf",
   "metadata": {
    "vscode": {
     "languageId": "shellscript"
    }
   },
   "outputs": [
    {
     "ename": "",
     "evalue": "",
     "output_type": "error",
     "traceback": [
      "\u001b[1;31mnotebook controller is DISPOSED. \n",
      "\u001b[1;31mView Jupyter <a href='command:jupyter.viewOutput'>log</a> for further details."
     ]
    }
   ],
   "source": []
  }
 ],
 "metadata": {
  "kernelspec": {
   "display_name": "NN",
   "language": "python",
   "name": "nn"
  },
  "language_info": {
   "codemirror_mode": {
    "name": "ipython",
    "version": 3
   },
   "file_extension": ".py",
   "mimetype": "text/x-python",
   "name": "python",
   "nbconvert_exporter": "python",
   "pygments_lexer": "ipython3",
   "version": "3.12.3"
  }
 },
 "nbformat": 4,
 "nbformat_minor": 5
}
