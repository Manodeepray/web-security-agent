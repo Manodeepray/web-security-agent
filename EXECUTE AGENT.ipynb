{
 "cells": [
  {
   "cell_type": "markdown",
   "id": "f3cd897b-bf57-4229-899f-71e9687bfea9",
   "metadata": {},
   "source": [
    "# Extracting steps form workflow.md"
   ]
  },
  {
   "cell_type": "code",
   "execution_count": null,
   "id": "3f3a1273-c4fe-43a7-b6f2-ac458105f84d",
   "metadata": {
    "vscode": {
     "languageId": "shellscript"
    }
   },
   "outputs": [],
   "source": []
  },
  {
   "cell_type": "code",
   "execution_count": 57,
   "id": "ee4a553b-23b1-49dd-a44d-7f809553c49b",
   "metadata": {
    "vscode": {
     "languageId": "shellscript"
    }
   },
   "outputs": [
    {
     "data": {
      "text/plain": [
       "{'task': '---\\nTask: 4. Add a new contact by filling out and submitting the form on the contacts add page\\n',\n",
       " 'workflow_steps': [':',\n",
       "  'Step 1: Navigate to http://127.0.0.1:5000/dashboard',\n",
       "  'Step 2: Click on the link that navigates to http://127.0.0.1:5000/contacts',\n",
       "  'Step 3: Click on the link that navigates to http://127.0.0.1:5000/contacts/add',\n",
       "  'Step 4: Fill out the form with the following details: ',\n",
       "  '    - action: /contacts/add',\n",
       "  '    - method: POST',\n",
       "  '    - inputs: ',\n",
       "  '        - name (text): the name of the new contact',\n",
       "  '        - email (email): the email of the new contact',\n",
       "  '        - notes (textarea): any notes about the new contact',\n",
       "  'Step 5: Press the button to submit the form: ',\n",
       "  '    - type: submit',\n",
       "  '    - text: Save Contact',\n",
       "  'Step 6: Verify that the new contact has been added successfully and the page has navigated to one of the following URLs: http://127.0.0.1:5000/dashboard, http://127.0.0.1:5000/contacts, http://127.0.0.1:5000/tickets, or http://127.0.0.1:5000/admin']}"
      ]
     },
     "execution_count": 57,
     "metadata": {},
     "output_type": "execute_result"
    }
   ],
   "source": [
    "\n",
    "#contains the workflow divided into {task : str ,steps : [str....]}\n",
    "def get_workflow_dict(workflow_path):\n",
    "\n",
    "    with open( workflow_path,\"r\") as f:\n",
    "        workflow = f.read()\n",
    "\n",
    "    wf={}\n",
    "    wf[\"task\"] = workflow.split(\"Workflow\")[0]\n",
    "    wf[\"workflow_steps\"] = workflow.split(\"Workflow\")[1].split(\"\\n\")\n",
    "    return wf\n",
    "\n",
    "\n",
    "workflow_path = \"data/extracted_task_workflows/Workflow_3.md\"\n",
    "wf = get_workflow_dict(workflow_path)\n",
    "wf"
   ]
  },
  {
   "cell_type": "code",
   "execution_count": null,
   "id": "f0f0eeb0",
   "metadata": {
    "vscode": {
     "languageId": "shellscript"
    }
   },
   "outputs": [],
   "source": []
  },
  {
   "cell_type": "markdown",
   "id": "836ad58e",
   "metadata": {},
   "source": []
  },
  {
   "cell_type": "code",
   "execution_count": 58,
   "id": "a7221e7e-eb85-4dbd-a16c-ea874a09ef76",
   "metadata": {
    "vscode": {
     "languageId": "shellscript"
    }
   },
   "outputs": [],
   "source": [
    "page = {}"
   ]
  },
  {
   "cell_type": "markdown",
   "id": "12faae3f-6adb-4117-8693-a1d50a855483",
   "metadata": {},
   "source": [
    "# AGENT\n"
   ]
  },
  {
   "cell_type": "markdown",
   "id": "2e97adec-5cf1-48da-b0e2-0a287f4a4c99",
   "metadata": {},
   "source": [
    "### states and dataclasses"
   ]
  },
  {
   "cell_type": "code",
   "execution_count": 59,
   "id": "919c1b74-45ae-409a-a7b7-36c3cc207158",
   "metadata": {
    "vscode": {
     "languageId": "shellscript"
    }
   },
   "outputs": [],
   "source": [
    "try:\n",
    "    from langchain.tools import tool\n",
    "except:\n",
    "    !uv pip install langchain\n",
    "# langgraph state variable (dict)\n",
    "\n",
    "state = {\n",
    "    \"page\" : None,  # Puppeteer page instance\n",
    "    \"home_url\": None,\n",
    "    \"curr_url\": None,\n",
    "    \"last_action\": None,\n",
    "    \"history\": [],\n",
    "}"
   ]
  },
  {
   "cell_type": "code",
   "execution_count": 60,
   "id": "00da653a-7106-4a0c-a3f8-4c04b1f762f6",
   "metadata": {
    "vscode": {
     "languageId": "shellscript"
    }
   },
   "outputs": [
    {
     "data": {
      "text/plain": [
       "{'page': None,\n",
       " 'home_url': None,\n",
       " 'curr_url': None,\n",
       " 'last_action': None,\n",
       " 'history': []}"
      ]
     },
     "execution_count": 60,
     "metadata": {},
     "output_type": "execute_result"
    }
   ],
   "source": [
    "state"
   ]
  },
  {
   "cell_type": "markdown",
   "id": "423e5845-9f3e-438b-a6c8-4eff87a03c7c",
   "metadata": {},
   "source": [
    "## TOOLS\n"
   ]
  },
  {
   "cell_type": "code",
   "execution_count": 61,
   "id": "94bd91a4-6561-4da6-ab54-92f1eb59599e",
   "metadata": {
    "vscode": {
     "languageId": "shellscript"
    }
   },
   "outputs": [],
   "source": [
    "try:\n",
    "    import langgraph\n",
    "except:\n",
    "    !uv pip install langgraph"
   ]
  },
  {
   "cell_type": "code",
   "execution_count": 62,
   "id": "cd22a69b-5348-4e7a-9f7e-533f4f0e311a",
   "metadata": {
    "vscode": {
     "languageId": "shellscript"
    }
   },
   "outputs": [],
   "source": [
    "try:\n",
    "    from pyppeteer import launch\n",
    "except:\n",
    "    !uv pip install pyppeteer\n",
    "\n",
    "import asyncio"
   ]
  },
  {
   "cell_type": "code",
   "execution_count": 63,
   "id": "a4715472-a9f7-4fcf-99c7-2920bed46e2d",
   "metadata": {
    "vscode": {
     "languageId": "shellscript"
    }
   },
   "outputs": [],
   "source": [
    "home_url = \"http://127.0.0.1:5000/\"\n",
    "test_url = \"http://127.0.0.1:5000/contacts/add\"\n",
    " \n",
    "browser = await launch(headless=True, args=['--no-sandbox', '--disable-setuid-sandbox'])\n",
    "\n",
    "page = await browser.newPage()\n",
    "await page.goto(test_url, {'waitUntil': 'networkidle2'})\n",
    "state['page'] = page\n",
    "\n",
    "\n",
    "state[\"home_url\"] = home_url\n",
    "state[\"curr_url\"] = page.url"
   ]
  },
  {
   "cell_type": "code",
   "execution_count": 64,
   "id": "a0cf26d1-8c40-4325-881b-ab9393f7d804",
   "metadata": {
    "vscode": {
     "languageId": "shellscript"
    }
   },
   "outputs": [],
   "source": [
    "import re\n",
    "\n",
    "\n",
    "links = await page.evaluate('''() => \n",
    "                                       {\n",
    "                                        const elements = Array.from(\n",
    "                                            document.querySelectorAll(\n",
    "                                                'a'\n",
    "                                                \n",
    "                                            ));   \n",
    "                                        return elements.map(el => el.outerHTML);   \n",
    "                                           \n",
    "                                           \n",
    "                                       }\n",
    "                                       ''') \n",
    "    \n",
    "    \n",
    "# print(links)\n",
    "extracted_links = []\n",
    "for link in links:\n",
    "    match = re.search(r'href=[\\'\"]([^\\'\"]+)[\\'\"]', link)\n",
    "\n",
    "    if match:\n",
    "        href_value = match.group(1)\n",
    "        # print(href_value)\n",
    "        \n",
    "    \n",
    "    extracted_links.append(href_value)\n",
    "\n",
    "\n",
    "\n",
    "\n",
    "\n",
    "# buttons ,\"\\n\", forms , \" \" , extracted_links"
   ]
  },
  {
   "cell_type": "code",
   "execution_count": 65,
   "id": "96730e4f-c74c-448c-b91e-945bef8f5396",
   "metadata": {
    "vscode": {
     "languageId": "shellscript"
    }
   },
   "outputs": [],
   "source": [
    "#click link tool"
   ]
  },
  {
   "cell_type": "code",
   "execution_count": 66,
   "id": "8920262f-6a01-4396-8fc1-8000f6123592",
   "metadata": {
    "vscode": {
     "languageId": "shellscript"
    }
   },
   "outputs": [
    {
     "data": {
      "text/plain": [
       "('http://127.0.0.1:5000/',\n",
       " ['/dashboard', '/contacts', '/tickets', '/admin', '/contacts'])"
      ]
     },
     "execution_count": 66,
     "metadata": {},
     "output_type": "execute_result"
    }
   ],
   "source": [
    "state[\"home_url\"],extracted_links"
   ]
  },
  {
   "cell_type": "code",
   "execution_count": 67,
   "id": "9bd0d861-f839-4d36-a59f-43dab29b6f40",
   "metadata": {
    "vscode": {
     "languageId": "shellscript"
    }
   },
   "outputs": [],
   "source": [
    "\n",
    "@tool\n",
    "async def navigate_to_link(state: dict, relative_url: str):\n",
    "    \"\"\"\n",
    "    Navigate to a selected link (relative path like '/dashboard')\n",
    "    Args:\n",
    "        state (dict): Must contain a Puppeteer page object in `state[\"page\"]`\n",
    "        relative_url (str): e.g. '/dashboard'\n",
    "    Returns:\n",
    "        dict: Updated state with last action\n",
    "    \"\"\"\n",
    "    page = state[\"page\"]\n",
    "    home_url = state[\"home_url\"]\n",
    "\n",
    "    # Construct absolute URL\n",
    "    full_url = home_url.rstrip(\"/\") + relative_url\n",
    "\n",
    "    try:\n",
    "        await page.goto(full_url, {'waitUntil': 'networkidle2'})\n",
    "        state[\"curr_url\"] = full_url\n",
    "        state[\"last_action\"] = f\"✅ Navigated to {full_url}\"\n",
    "        return state\n",
    "    except Exception as e:\n",
    "        state[\"last_action\"] = f\"❌ Failed to navigate to {full_url}: {e}\"\n",
    "        return state\n",
    "\n"
   ]
  },
  {
   "cell_type": "code",
   "execution_count": null,
   "id": "8a33dcd3-32ec-4921-ac19-bcf1f4f924c2",
   "metadata": {
    "vscode": {
     "languageId": "shellscript"
    }
   },
   "outputs": [],
   "source": []
  },
  {
   "cell_type": "code",
   "execution_count": 68,
   "id": "38944e80-b912-4116-ad6e-56647ab265ad",
   "metadata": {
    "vscode": {
     "languageId": "shellscript"
    }
   },
   "outputs": [
    {
     "data": {
      "text/plain": [
       "<pyppeteer.page.Page at 0x7acce41ee8a0>"
      ]
     },
     "execution_count": 68,
     "metadata": {},
     "output_type": "execute_result"
    }
   ],
   "source": [
    "page"
   ]
  },
  {
   "cell_type": "code",
   "execution_count": 69,
   "id": "ad0cf309-beca-4e73-9664-4cadb6f3e117",
   "metadata": {
    "vscode": {
     "languageId": "shellscript"
    }
   },
   "outputs": [
    {
     "data": {
      "text/plain": [
       "['<button type=\"submit\">Save Contact</button>']"
      ]
     },
     "execution_count": 69,
     "metadata": {},
     "output_type": "execute_result"
    }
   ],
   "source": [
    "#click button tool\n",
    "\n",
    "buttons = await page.evaluate('''() => \n",
    "                                       {\n",
    "                                        const elements = Array.from(\n",
    "                                            document.querySelectorAll(\n",
    "                                             'button, input[type=\"button\"], input[type=\"submit\"], [onclick]'   \n",
    "                                                \n",
    "                                            )\n",
    "                                            \n",
    "                                        );   \n",
    "                                        return elements.map(el => el.outerHTML);   \n",
    "                                           \n",
    "                                           \n",
    "                                       }\n",
    "                                       ''') \n",
    "\n",
    "\n",
    "buttons\n"
   ]
  },
  {
   "cell_type": "code",
   "execution_count": 70,
   "id": "976d0847-86f0-4c3d-b1aa-61cbca1bf007",
   "metadata": {
    "vscode": {
     "languageId": "shellscript"
    }
   },
   "outputs": [],
   "source": [
    "\n",
    "from bs4 import BeautifulSoup\n",
    "\n",
    "\n",
    "@tool\n",
    "async def click_button_by_html(state: dict, html_string: str) -> dict:\n",
    "    \"\"\"\n",
    "    Extract button text from HTML and click it on the current page.\n",
    "    Args:\n",
    "        state (dict): Must contain a Puppeteer page object in `state[\"page\"]`\n",
    "        html_string (str): e.g. '<button type=\"submit\">Save Contact</button>'\n",
    "    Returns:\n",
    "        dict: Updated state with last action\n",
    "    \"\"\"\n",
    "    page = state[\"page\"]\n",
    "\n",
    "    # Extract visible text from the button HTML\n",
    "    try:\n",
    "        soup = BeautifulSoup(html_string, 'html.parser')\n",
    "        target_text = soup.get_text(strip=True)\n",
    "    except Exception as e:\n",
    "        state[\"last_action\"] = f\"❌ Failed to parse HTML: {e}\"\n",
    "        return state\n",
    "\n",
    "    # Search all clickable elements\n",
    "    try:\n",
    "        buttons = await page.querySelectorAll('button, input[type=\"button\"], input[type=\"submit\"], [onclick]')\n",
    "        \n",
    "        for button in buttons:\n",
    "            text = await page.evaluate('(el) => el.innerText || el.value || el.getAttribute(\"onclick\") || \"\"', button)\n",
    "            if text and target_text.lower() in text.strip().lower():\n",
    "                await button.click()\n",
    "                state[\"last_action\"] = f\"✅ Clicked button with text: {text.strip()}\"\n",
    "                return state\n",
    "        \n",
    "        state[\"last_action\"] = f\"❌ No button found with text: {target_text}\"\n",
    "        return state\n",
    "    except Exception as e:\n",
    "        state[\"last_action\"] = f\"❌ Error while clicking button: {e}\"\n",
    "        return state\n",
    "\n",
    "# await click_button_by_html(state , buttons)\n"
   ]
  },
  {
   "cell_type": "code",
   "execution_count": 71,
   "id": "5fa3b904-59e8-49e0-b2ce-0ef32abbbdb8",
   "metadata": {
    "vscode": {
     "languageId": "shellscript"
    }
   },
   "outputs": [],
   "source": [
    "#fill form tool\n",
    "\n",
    "\n",
    "\n",
    "forms = await page.evaluate('''() => \n",
    "                                       {\n",
    "                                        const elements = Array.from(\n",
    "                                            document.querySelectorAll(\n",
    "                                                'form'\n",
    "                                                \n",
    "                                            )\n",
    "                                            \n",
    "                                        );   \n",
    "                                        return elements.map(el => el.outerHTML);   \n",
    "                                           \n",
    "                                           \n",
    "                                       }\n",
    "                                       ''') \n",
    "\n"
   ]
  },
  {
   "cell_type": "code",
   "execution_count": 72,
   "id": "e4c5403c-912c-40a7-92d5-d1cd9cb0abc4",
   "metadata": {
    "vscode": {
     "languageId": "shellscript"
    }
   },
   "outputs": [],
   "source": [
    "\n",
    "\n",
    "\n",
    "from bs4 import BeautifulSoup\n",
    "\n",
    "def parse_form_fields(html):\n",
    "    soup = BeautifulSoup(html, \"html.parser\")\n",
    "    inputs = soup.find_all(['input', 'textarea'])\n",
    "    field_names = [tag.get(\"name\") for tag in inputs if tag.get(\"name\")]\n",
    "    return field_names\n",
    "    \n",
    "# parse_form_fields(forms[0])\n",
    "\n",
    "# use this to the the field values for prompt\n"
   ]
  },
  {
   "cell_type": "code",
   "execution_count": 73,
   "id": "a536bbfe-1288-4d7b-b233-ab2508b53c19",
   "metadata": {
    "vscode": {
     "languageId": "shellscript"
    }
   },
   "outputs": [],
   "source": [
    "\n",
    "\n",
    "values = {\n",
    "    \"name\": \"Manodeep Ray\",\n",
    "    \"email\": \"manodeep@example.com\",\n",
    "    \"notes\": \"College friend\"\n",
    "}\n"
   ]
  },
  {
   "cell_type": "code",
   "execution_count": 74,
   "id": "8d8c0b0c-6136-425c-bbe2-0f65f0836bff",
   "metadata": {
    "vscode": {
     "languageId": "shellscript"
    }
   },
   "outputs": [
    {
     "data": {
      "text/plain": [
       "'http://127.0.0.1:5000/contacts/add'"
      ]
     },
     "execution_count": 74,
     "metadata": {},
     "output_type": "execute_result"
    }
   ],
   "source": [
    "page.url\n"
   ]
  },
  {
   "cell_type": "code",
   "execution_count": null,
   "id": "09c74726-36d7-49c0-abfe-c0359d145ec8",
   "metadata": {
    "vscode": {
     "languageId": "shellscript"
    }
   },
   "outputs": [],
   "source": [
    "async def fill_form_fields(page, values: dict):\n",
    "    \"\"\"\n",
    "    Fill out and submit a form using parsed field names and user-provided values.\n",
    "    Args:\n",
    "        page: Pyppeteer page object\n",
    "        values: Dict of field names and their values\n",
    "    \"\"\"\n",
    "    for field_name, field_value in values.items():\n",
    "\n",
    "        # field_value = \"<script>alert('XSS Attack!');</script>\"\n",
    "\n",
    "\n",
    "        selector = f'input[name=\"{field_name}\"], textarea[name=\"{field_name}\"], select[name=\"{field_name}\"]'\n",
    "        print(f\"Filling: {selector} -> {field_value}\")\n",
    "        try:\n",
    "            await page.waitForSelector(selector, timeout=2000)\n",
    "\n",
    "            # Clear the input value using evaluate safely\n",
    "            await page.evaluate(\n",
    "                \"\"\"(selector) => {\n",
    "                    const el = document.querySelector(selector);\n",
    "                    if (el) el.value = \"\";\n",
    "                }\"\"\",\n",
    "                selector\n",
    "            )\n",
    "\n",
    "            # Handle <select> separately if needed\n",
    "            tag_name = await page.evaluate(\n",
    "                \"\"\"(selector) => {\n",
    "                    const el = document.querySelector(selector);\n",
    "                    return el ? el.tagName.toLowerCase() : null;\n",
    "                }\"\"\",\n",
    "                selector\n",
    "            )\n",
    "\n",
    "            if tag_name == \"select\":\n",
    "                await page.select(selector, field_value)\n",
    "            else:\n",
    "                await page.type(selector, field_value)\n",
    "\n",
    "        except Exception as e:\n",
    "            print(f\"⚠️ Failed to fill {field_name}: {e}\")\n",
    "\n",
    "    # Try to click the submit button\n",
    "    try:\n",
    "        submit_selectors = [\n",
    "            'form button[type=\"submit\"]',\n",
    "            'form input[type=\"submit\"]',\n",
    "            'button[type=\"submit\"]',\n",
    "            'input[type=\"submit\"]'\n",
    "        ]\n",
    "        for submit_selector in submit_selectors:\n",
    "            try:\n",
    "                await page.waitForSelector(submit_selector, timeout=1000)\n",
    "                await page.click(submit_selector)\n",
    "                await page.waitForNavigation(timeout=5000)\n",
    "                return \"✅ Form submitted.\"\n",
    "            except:\n",
    "                continue\n",
    "        return \"⚠️ No submit button found.\"\n",
    "    except Exception as e:\n",
    "        return f\"⚠️ Failed to submit form: {e}\"\n"
   ]
  },
  {
   "cell_type": "code",
   "execution_count": 110,
   "id": "62441fd0-13df-4b27-92ac-d82573079a5d",
   "metadata": {
    "vscode": {
     "languageId": "shellscript"
    }
   },
   "outputs": [
    {
     "ename": "NameError",
     "evalue": "name 'form_html' is not defined",
     "output_type": "error",
     "traceback": [
      "\u001b[31m---------------------------------------------------------------------------\u001b[39m",
      "\u001b[31mNameError\u001b[39m                                 Traceback (most recent call last)",
      "\u001b[36mCell\u001b[39m\u001b[36m \u001b[39m\u001b[32mIn[110]\u001b[39m\u001b[32m, line 21\u001b[39m\n\u001b[32m     15\u001b[39m     state[\u001b[33m\"\u001b[39m\u001b[33mlast_action\u001b[39m\u001b[33m\"\u001b[39m] = result\n\u001b[32m     16\u001b[39m     \u001b[38;5;28;01mreturn\u001b[39;00m state\n\u001b[32m     19\u001b[39m state = \u001b[38;5;28;01mawait\u001b[39;00m form_filling_tool.arun({\n\u001b[32m     20\u001b[39m     \u001b[33m\"\u001b[39m\u001b[33mstate\u001b[39m\u001b[33m\"\u001b[39m: state,\n\u001b[32m---> \u001b[39m\u001b[32m21\u001b[39m     \u001b[33m\"\u001b[39m\u001b[33mform_html\u001b[39m\u001b[33m\"\u001b[39m: \u001b[43mform_html\u001b[49m,\n\u001b[32m     22\u001b[39m     \u001b[33m\"\u001b[39m\u001b[33mvalues\u001b[39m\u001b[33m\"\u001b[39m: values\n\u001b[32m     23\u001b[39m })\n",
      "\u001b[31mNameError\u001b[39m: name 'form_html' is not defined"
     ]
    }
   ],
   "source": [
    "@tool\n",
    "async def form_filling_tool(state: dict, form_html: str, values: dict):\n",
    "    \"\"\"\n",
    "    Fill out and submit a form using the parsed input names and user-provided values.\n",
    "    \n",
    "    Args:\n",
    "        state: LangGraph agent state with a Puppeteer page\n",
    "        form_html: HTML string of the <form>\n",
    "        values: Dict of field names and their values (e.g., {\"name\": \"John\", \"email\": \"john@example.com\"})\n",
    "    \"\"\"\n",
    "    fields = parse_form_fields(form_html)\n",
    "    filtered_values = {k: v for k, v in values.items() if k in fields}\n",
    "    \n",
    "    result = await fill_form_fields(state[\"page\"], filtered_values)\n",
    "    state[\"last_action\"] = result\n",
    "    return state\n",
    "\n",
    "\n",
    "state = await form_filling_tool.arun({\n",
    "    \"state\": state,\n",
    "    \"form_html\": form_html,\n",
    "    \"values\": values\n",
    "})\n"
   ]
  },
  {
   "cell_type": "code",
   "execution_count": 111,
   "id": "521cf968-d779-40fb-9ab9-86304fab76c1",
   "metadata": {
    "vscode": {
     "languageId": "shellscript"
    }
   },
   "outputs": [
    {
     "data": {
      "text/plain": [
       "{'home_url': 'http://127.0.0.1:5000/',\n",
       " 'page': <pyppeteer.page.Page at 0x7acce41ee8a0>,\n",
       " 'page_html': '<!DOCTYPE html><html lang=\"en\"><head>\\n    <meta charset=\"UTF-8\">\\n    <title>MiniCRM</title>\\n    <link rel=\"stylesheet\" href=\"/static/style.css\">\\n</head>\\n<body>\\n    <header>\\n        <h1>MiniCRM Dashboard</h1>\\n        <nav>\\n            <a href=\"/dashboard\">🏠 Dashboard</a> |\\n            <a href=\"/contacts\">📇 Contacts</a> |\\n            <a href=\"/tickets\">🎫 Tickets</a> |\\n            <a href=\"/admin\">⚙️ Admin</a>\\n        </nav>\\n        <hr>\\n    </header>\\n\\n    \\n      \\n    \\n\\n    <main>\\n        \\n<h2>➕ Add New Contact</h2>\\n\\n<form action=\"/contacts/add\" method=\"post\">\\n    <label for=\"name\">Name:</label><br>\\n    <input type=\"text\" name=\"name\" required=\"\"><br><br>\\n\\n    <label for=\"email\">Email:</label><br>\\n    <input type=\"email\" name=\"email\" required=\"\"><br><br>\\n\\n    <label for=\"notes\">Notes:</label><br>\\n    <textarea name=\"notes\" rows=\"4\" cols=\"50\"></textarea><br><br>\\n\\n    <button type=\"submit\">Save Contact</button>\\n</form>\\n\\n<p><a href=\"/contacts\">← Back to Contacts</a></p>\\n\\n    </main>\\n\\n</body></html>',\n",
       " 'current_step': 5,\n",
       " 'history': [{'step': 'Navigate to the dashboard page',\n",
       "   'tool': 'navigate_to_link',\n",
       "   'args': {'relative_url': '/dashboard', 'state': {...}},\n",
       "   'result': {'home_url': 'http://127.0.0.1:5000/',\n",
       "    'page': <pyppeteer.page.Page at 0x7acce41ee8a0>,\n",
       "    'page_html': '<!DOCTYPE html><html lang=\"en\"><head>\\n    <meta charset=\"UTF-8\">\\n    <title>MiniCRM</title>\\n    <link rel=\"stylesheet\" href=\"/static/style.css\">\\n</head>\\n<body>\\n    <header>\\n        <h1>MiniCRM Dashboard</h1>\\n        <nav>\\n            <a href=\"/dashboard\">🏠 Dashboard</a> |\\n            <a href=\"/contacts\">📇 Contacts</a> |\\n            <a href=\"/tickets\">🎫 Tickets</a> |\\n            <a href=\"/admin\">⚙️ Admin</a>\\n        </nav>\\n        <hr>\\n    </header>\\n\\n    \\n      \\n    \\n\\n    <main>\\n        \\n<h2>➕ Add New Contact</h2>\\n\\n<form action=\"/contacts/add\" method=\"post\">\\n    <label for=\"name\">Name:</label><br>\\n    <input type=\"text\" name=\"name\" required=\"\"><br><br>\\n\\n    <label for=\"email\">Email:</label><br>\\n    <input type=\"email\" name=\"email\" required=\"\"><br><br>\\n\\n    <label for=\"notes\">Notes:</label><br>\\n    <textarea name=\"notes\" rows=\"4\" cols=\"50\"></textarea><br><br>\\n\\n    <button type=\"submit\">Save Contact</button>\\n</form>\\n\\n<p><a href=\"/contacts\">← Back to Contacts</a></p>\\n\\n    </main>\\n\\n</body></html>',\n",
       "    'current_step': 0,\n",
       "    'history': [...],\n",
       "    'curr_url': 'http://127.0.0.1:5000/dashboard',\n",
       "    'last_action': '✅ Navigated to http://127.0.0.1:5000/dashboard'}},\n",
       "  {'step': 'Navigate to the contacts page',\n",
       "   'tool': 'navigate_to_link',\n",
       "   'args': {'relative_url': '/contacts', 'state': {...}},\n",
       "   'result': {'home_url': 'http://127.0.0.1:5000/',\n",
       "    'page': <pyppeteer.page.Page at 0x7acce41ee8a0>,\n",
       "    'page_html': '<!DOCTYPE html><html lang=\"en\"><head>\\n    <meta charset=\"UTF-8\">\\n    <title>MiniCRM</title>\\n    <link rel=\"stylesheet\" href=\"/static/style.css\">\\n</head>\\n<body>\\n    <header>\\n        <h1>MiniCRM Dashboard</h1>\\n        <nav>\\n            <a href=\"/dashboard\">🏠 Dashboard</a> |\\n            <a href=\"/contacts\">📇 Contacts</a> |\\n            <a href=\"/tickets\">🎫 Tickets</a> |\\n            <a href=\"/admin\">⚙️ Admin</a>\\n        </nav>\\n        <hr>\\n    </header>\\n\\n    \\n      \\n    \\n\\n    <main>\\n        \\n<h2>➕ Add New Contact</h2>\\n\\n<form action=\"/contacts/add\" method=\"post\">\\n    <label for=\"name\">Name:</label><br>\\n    <input type=\"text\" name=\"name\" required=\"\"><br><br>\\n\\n    <label for=\"email\">Email:</label><br>\\n    <input type=\"email\" name=\"email\" required=\"\"><br><br>\\n\\n    <label for=\"notes\">Notes:</label><br>\\n    <textarea name=\"notes\" rows=\"4\" cols=\"50\"></textarea><br><br>\\n\\n    <button type=\"submit\">Save Contact</button>\\n</form>\\n\\n<p><a href=\"/contacts\">← Back to Contacts</a></p>\\n\\n    </main>\\n\\n</body></html>',\n",
       "    'current_step': 1,\n",
       "    'history': [...],\n",
       "    'curr_url': 'http://127.0.0.1:5000/contacts',\n",
       "    'last_action': '✅ Navigated to http://127.0.0.1:5000/contacts'}},\n",
       "  {'step': 'Navigate to the contact creation page',\n",
       "   'tool': 'navigate_to_link',\n",
       "   'args': {'relative_url': '/contacts/add', 'state': {...}},\n",
       "   'result': {'home_url': 'http://127.0.0.1:5000/',\n",
       "    'page': <pyppeteer.page.Page at 0x7acce41ee8a0>,\n",
       "    'page_html': '<!DOCTYPE html><html lang=\"en\"><head>\\n    <meta charset=\"UTF-8\">\\n    <title>MiniCRM</title>\\n    <link rel=\"stylesheet\" href=\"/static/style.css\">\\n</head>\\n<body>\\n    <header>\\n        <h1>MiniCRM Dashboard</h1>\\n        <nav>\\n            <a href=\"/dashboard\">🏠 Dashboard</a> |\\n            <a href=\"/contacts\">📇 Contacts</a> |\\n            <a href=\"/tickets\">🎫 Tickets</a> |\\n            <a href=\"/admin\">⚙️ Admin</a>\\n        </nav>\\n        <hr>\\n    </header>\\n\\n    \\n      \\n    \\n\\n    <main>\\n        \\n<h2>➕ Add New Contact</h2>\\n\\n<form action=\"/contacts/add\" method=\"post\">\\n    <label for=\"name\">Name:</label><br>\\n    <input type=\"text\" name=\"name\" required=\"\"><br><br>\\n\\n    <label for=\"email\">Email:</label><br>\\n    <input type=\"email\" name=\"email\" required=\"\"><br><br>\\n\\n    <label for=\"notes\">Notes:</label><br>\\n    <textarea name=\"notes\" rows=\"4\" cols=\"50\"></textarea><br><br>\\n\\n    <button type=\"submit\">Save Contact</button>\\n</form>\\n\\n<p><a href=\"/contacts\">← Back to Contacts</a></p>\\n\\n    </main>\\n\\n</body></html>',\n",
       "    'current_step': 2,\n",
       "    'history': [...],\n",
       "    'curr_url': 'http://127.0.0.1:5000/contacts/add',\n",
       "    'last_action': '✅ Navigated to http://127.0.0.1:5000/contacts/add'}},\n",
       "  {'step': 'Fill out the form with name, email, and notes',\n",
       "   'tool': 'form_filling_tool',\n",
       "   'args': {'form_html': '<form action=\"/contacts/add\" method=\"post\">\\n    <label for=\"name\">Name:</label><br>\\n    <input type=\"text\" name=\"name\" required=\"\"><br><br>\\n\\n    <label for=\"email\">Email:</label><br>\\n    <input type=\"email\" name=\"email\" required=\"\"><br><br>\\n\\n    <label for=\"notes\">Notes:</label><br>\\n    <textarea name=\"notes\" rows=\"4\" cols=\"50\"></textarea><br><br>\\n\\n    <button type=\"submit\">Save Contact</button>\\n</form>',\n",
       "    'values': {'name': 'John Doe',\n",
       "     'email': 'john@example.com',\n",
       "     'notes': 'This is a new contact'},\n",
       "    'state': {...}},\n",
       "   'result': {'home_url': 'http://127.0.0.1:5000/',\n",
       "    'page': <pyppeteer.page.Page at 0x7acce41ee8a0>,\n",
       "    'page_html': '<!DOCTYPE html><html lang=\"en\"><head>\\n    <meta charset=\"UTF-8\">\\n    <title>MiniCRM</title>\\n    <link rel=\"stylesheet\" href=\"/static/style.css\">\\n</head>\\n<body>\\n    <header>\\n        <h1>MiniCRM Dashboard</h1>\\n        <nav>\\n            <a href=\"/dashboard\">🏠 Dashboard</a> |\\n            <a href=\"/contacts\">📇 Contacts</a> |\\n            <a href=\"/tickets\">🎫 Tickets</a> |\\n            <a href=\"/admin\">⚙️ Admin</a>\\n        </nav>\\n        <hr>\\n    </header>\\n\\n    \\n      \\n    \\n\\n    <main>\\n        \\n<h2>➕ Add New Contact</h2>\\n\\n<form action=\"/contacts/add\" method=\"post\">\\n    <label for=\"name\">Name:</label><br>\\n    <input type=\"text\" name=\"name\" required=\"\"><br><br>\\n\\n    <label for=\"email\">Email:</label><br>\\n    <input type=\"email\" name=\"email\" required=\"\"><br><br>\\n\\n    <label for=\"notes\">Notes:</label><br>\\n    <textarea name=\"notes\" rows=\"4\" cols=\"50\"></textarea><br><br>\\n\\n    <button type=\"submit\">Save Contact</button>\\n</form>\\n\\n<p><a href=\"/contacts\">← Back to Contacts</a></p>\\n\\n    </main>\\n\\n</body></html>',\n",
       "    'current_step': 3,\n",
       "    'history': [...],\n",
       "    'last_action': '⚠️ No submit button found.'}},\n",
       "  {'step': 'Verify that the new contact has been added successfully',\n",
       "   'tool': 'form_filling_tool',\n",
       "   'args': {'form_html': '<form action=\"/contacts/add\" method=\"post\">\\n    <label for=\"name\">Name:</label><br>\\n    <input type=\"text\" name=\"name\" required=\"\"><br><br>\\n\\n    <label for=\"email\">Email:</label><br>\\n    <input type=\"email\" name=\"email\" required=\"\"><br><br>\\n\\n    <label for=\"notes\">Notes:</label><br>\\n    <textarea name=\"notes\" rows=\"4\" cols=\"50\"></textarea><br><br>\\n\\n    <button type=\"submit\">Save Contact</button>\\n</form>',\n",
       "    'values': {'name': 'John Doe',\n",
       "     'email': 'john@example.com',\n",
       "     'notes': 'This is a new contact'},\n",
       "    'state': {...}},\n",
       "   'result': {'home_url': 'http://127.0.0.1:5000/',\n",
       "    'page': <pyppeteer.page.Page at 0x7acce41ee8a0>,\n",
       "    'page_html': '<!DOCTYPE html><html lang=\"en\"><head>\\n    <meta charset=\"UTF-8\">\\n    <title>MiniCRM</title>\\n    <link rel=\"stylesheet\" href=\"/static/style.css\">\\n</head>\\n<body>\\n    <header>\\n        <h1>MiniCRM Dashboard</h1>\\n        <nav>\\n            <a href=\"/dashboard\">🏠 Dashboard</a> |\\n            <a href=\"/contacts\">📇 Contacts</a> |\\n            <a href=\"/tickets\">🎫 Tickets</a> |\\n            <a href=\"/admin\">⚙️ Admin</a>\\n        </nav>\\n        <hr>\\n    </header>\\n\\n    \\n      \\n    \\n\\n    <main>\\n        \\n<h2>➕ Add New Contact</h2>\\n\\n<form action=\"/contacts/add\" method=\"post\">\\n    <label for=\"name\">Name:</label><br>\\n    <input type=\"text\" name=\"name\" required=\"\"><br><br>\\n\\n    <label for=\"email\">Email:</label><br>\\n    <input type=\"email\" name=\"email\" required=\"\"><br><br>\\n\\n    <label for=\"notes\">Notes:</label><br>\\n    <textarea name=\"notes\" rows=\"4\" cols=\"50\"></textarea><br><br>\\n\\n    <button type=\"submit\">Save Contact</button>\\n</form>\\n\\n<p><a href=\"/contacts\">← Back to Contacts</a></p>\\n\\n    </main>\\n\\n</body></html>',\n",
       "    'current_step': 4,\n",
       "    'history': [...],\n",
       "    'last_action': '⚠️ No submit button found.'}}]}"
      ]
     },
     "execution_count": 111,
     "metadata": {},
     "output_type": "execute_result"
    }
   ],
   "source": [
    "state"
   ]
  },
  {
   "cell_type": "code",
   "execution_count": 112,
   "id": "d4b687bf-031d-44c7-85ee-e2632f5f8982",
   "metadata": {
    "vscode": {
     "languageId": "shellscript"
    }
   },
   "outputs": [],
   "source": [
    "\n",
    "# await navigate_to_link(state , relative_url)\n",
    "# await click_button_by_html(state , buttons)\n",
    "# await form_filling_tool(state , form_html , values )\n",
    "\n",
    "\n",
    "\n",
    "\n",
    "tools = [\n",
    "    navigate_to_link,\n",
    "    click_button_by_html,\n",
    "    form_filling_tool,\n",
    "]\n",
    "\n",
    "state['tools'] = tools"
   ]
  },
  {
   "cell_type": "markdown",
   "id": "6b13d1f2-1f38-4052-9ccc-9e68d2b91f0b",
   "metadata": {},
   "source": [
    "# creating the tools workflow"
   ]
  },
  {
   "cell_type": "code",
   "execution_count": 113,
   "id": "40f3ef67-12ca-4177-a9fc-c61f5662ec57",
   "metadata": {
    "vscode": {
     "languageId": "shellscript"
    }
   },
   "outputs": [
    {
     "data": {
      "text/plain": [
       "'\\nYou are a workflow planner agent.\\n\\n## Objective:\\nYou are given:\\n1. A task to complete.\\n2. A list of natural language steps that must be followed in sequence.\\n3. A list of available tools (functions) in JSON format — each tool has a name and a description.\\n\\nYour job:\\n- Match each step with the most appropriate tool.\\n- Describe the specific action and **arguments/parameters** the tool should use.\\n- Include details like which values are passed in (if relevant).\\n- if there is a form to fill do not have a step to click button to subimt form as filling it would submit it automaticaly\\n---\\n\\n## Task:\\n---\\nTask: 4. Add a new contact by filling out and submitting the form on the contacts add page\\n\\n\\n## Steps:\\n[\\':\\', \\'Step 1: Navigate to http://127.0.0.1:5000/dashboard\\', \\'Step 2: Click on the link that navigates to http://127.0.0.1:5000/contacts\\', \\'Step 3: Click on the link that navigates to http://127.0.0.1:5000/contacts/add\\', \\'Step 4: Fill out the form with the following details: \\', \\'    - action: /contacts/add\\', \\'    - method: POST\\', \\'    - inputs: \\', \\'        - name (text): the name of the new contact\\', \\'        - email (email): the email of the new contact\\', \\'        - notes (textarea): any notes about the new contact\\', \\'Step 5: Press the button to submit the form: \\', \\'    - type: submit\\', \\'    - text: Save Contact\\', \\'Step 6: Verify that the new contact has been added successfully and the page has navigated to one of the following URLs: http://127.0.0.1:5000/dashboard, http://127.0.0.1:5000/contacts, http://127.0.0.1:5000/tickets, or http://127.0.0.1:5000/admin\\']\\n\\n## Input Values (e.g. for forms):\\n{}\\n\\n## Available Tools (in JSON):\\n[StructuredTool(name=\\'navigate_to_link\\', description=\\'Navigate to a selected link (relative path like \\\\\\'/dashboard\\\\\\')\\\\nArgs:\\\\n    state (dict): Must contain a Puppeteer page object in `state[\"page\"]`\\\\n    relative_url (str): e.g. \\\\\\'/dashboard\\\\\\'\\\\nReturns:\\\\n    dict: Updated state with last action\\', args_schema=<class \\'langchain_core.utils.pydantic.navigate_to_link\\'>, coroutine=<function navigate_to_link at 0x7accd7ccdd00>), StructuredTool(name=\\'click_button_by_html\\', description=\\'Extract button text from HTML and click it on the current page.\\\\nArgs:\\\\n    state (dict): Must contain a Puppeteer page object in `state[\"page\"]`\\\\n    html_string (str): e.g. \\\\\\'<button type=\"submit\">Save Contact</button>\\\\\\'\\\\nReturns:\\\\n    dict: Updated state with last action\\', args_schema=<class \\'langchain_core.utils.pydantic.click_button_by_html\\'>, coroutine=<function click_button_by_html at 0x7accd7310360>), StructuredTool(name=\\'form_filling_tool\\', description=\\'Fill out and submit a form using the parsed input names and user-provided values.\\\\n\\\\nArgs:\\\\n    state: LangGraph agent state with a Puppeteer page\\\\n    form_html: HTML string of the <form>\\\\n    values: Dict of field names and their values (e.g., {\"name\": \"John\", \"email\": \"john@example.com\"})\\', args_schema=<class \\'langchain_core.utils.pydantic.form_filling_tool\\'>, coroutine=<function form_filling_tool at 0x7accd73cf6a0>)]\\n\\n---\\n\\n## Output format:\\nProduce a **single-line string**, no newlines. For each step, use this format:\\n\\n`StepDescription -> ToolName -> DetailedAction`\\n\\nWhere:\\n- `StepDescription` is a natural language summary of the step.\\n- `ToolName` is the name of the tool to use.\\n- `DetailedAction` explains exactly what the tool should do, including what arguments or values are used (if applicable).\\n\\nSeparate each step with ` || ` (double pipe). Do not add newlines or extra commentary.\\n\\n---\\n\\n## Example Output:\\nNavigate to the contact creation page -> navigate_to_link -> Go to relative URL \\'/contacts/add\\' from base URL || Fill out the form with name, email, and notes -> form_filling_tool -> Fill \\'name\\' with \\'John Doe\\', \\'email\\' with \\'john@example.com\\', and \\'notes\\' with \\'New lead from campaign\\' || Click the submit button -> click_button_by_html -> Find and click button with text \\'Save Contact\\' and type=\\'submit\\'\\n\\nOnly return the result in the required format.\\n'"
      ]
     },
     "execution_count": 113,
     "metadata": {},
     "output_type": "execute_result"
    }
   ],
   "source": [
    "prompt = f\"\"\"\n",
    "You are a workflow planner agent.\n",
    "\n",
    "## Objective:\n",
    "You are given:\n",
    "1. A task to complete.\n",
    "2. A list of natural language steps that must be followed in sequence.\n",
    "3. A list of available tools (functions) in JSON format — each tool has a name and a description.\n",
    "\n",
    "Your job:\n",
    "- Match each step with the most appropriate tool.\n",
    "- Describe the specific action and **arguments/parameters** the tool should use.\n",
    "- Include details like which values are passed in (if relevant).\n",
    "- if there is a form to fill do not have a step to click button to subimt form as filling it would submit it automaticaly\n",
    "---\n",
    "\n",
    "## Task:\n",
    "{wf[\"task\"]}\n",
    "\n",
    "## Steps:\n",
    "{wf[\"workflow_steps\"]}\n",
    "\n",
    "## Input Values (e.g. for forms):\n",
    "{wf.get(\"values\", {})}\n",
    "\n",
    "## Available Tools (in JSON):\n",
    "{state[\"tools\"]}\n",
    "\n",
    "---\n",
    "\n",
    "## Output format:\n",
    "Produce a **single-line string**, no newlines. For each step, use this format:\n",
    "\n",
    "`StepDescription -> ToolName -> DetailedAction`\n",
    "\n",
    "Where:\n",
    "- `StepDescription` is a natural language summary of the step.\n",
    "- `ToolName` is the name of the tool to use.\n",
    "- `DetailedAction` explains exactly what the tool should do, including what arguments or values are used (if applicable).\n",
    "\n",
    "Separate each step with ` || ` (double pipe). Do not add newlines or extra commentary.\n",
    "\n",
    "---\n",
    "\n",
    "## Example Output:\n",
    "Navigate to the contact creation page -> navigate_to_link -> Go to relative URL '/contacts/add' from base URL || Fill out the form with name, email, and notes -> form_filling_tool -> Fill 'name' with 'John Doe', 'email' with 'john@example.com', and 'notes' with 'New lead from campaign' || Click the submit button -> click_button_by_html -> Find and click button with text 'Save Contact' and type='submit'\n",
    "\n",
    "Only return the result in the required format.\n",
    "\"\"\"\n",
    "\n",
    "\n",
    "prompt"
   ]
  },
  {
   "cell_type": "code",
   "execution_count": 114,
   "id": "d2def7a5-faba-40ba-a350-83c7c5251b0f",
   "metadata": {
    "vscode": {
     "languageId": "shellscript"
    }
   },
   "outputs": [],
   "source": [
    "import llm_bridge\n",
    "\n",
    "llm = llm_bridge.Bridge()\n",
    "\n",
    "\n",
    "\n",
    "response = llm.get_response(prompt)"
   ]
  },
  {
   "cell_type": "code",
   "execution_count": 115,
   "id": "912870b4-add7-4254-8af3-f392fc24c3c7",
   "metadata": {
    "vscode": {
     "languageId": "shellscript"
    }
   },
   "outputs": [],
   "source": [
    "toolflow = response.choices[0].message.content\n"
   ]
  },
  {
   "cell_type": "code",
   "execution_count": 116,
   "id": "952a38e0-c822-42f4-bc16-7d608d4b266d",
   "metadata": {
    "vscode": {
     "languageId": "shellscript"
    }
   },
   "outputs": [
    {
     "data": {
      "text/plain": [
       "[\"Navigate to the dashboard page -> navigate_to_link -> Go to relative URL '/dashboard' from base URL \",\n",
       " \" Navigate to the contacts page -> navigate_to_link -> Go to relative URL '/contacts' from base URL \",\n",
       " \" Navigate to the contact creation page -> navigate_to_link -> Go to relative URL '/contacts/add' from base URL \",\n",
       " \" Fill out the form with name, email, and notes -> form_filling_tool -> Fill 'name' with provided name, 'email' with provided email, and 'notes' with provided notes \",\n",
       " ' Verify the new contact has been added -> No tool available for this step as it requires verification, however, the form_filling_tool will submit the form and navigate to the next page automatically, achieving the same result as the original steps 5 and 6']"
      ]
     },
     "execution_count": 116,
     "metadata": {},
     "output_type": "execute_result"
    }
   ],
   "source": [
    "tool_flow_list = toolflow.split(\"||\")\n",
    "tool_flow_list"
   ]
  },
  {
   "cell_type": "code",
   "execution_count": null,
   "id": "d1f7b7ac-6cf2-49c4-b8bc-5fae6845f7f4",
   "metadata": {
    "vscode": {
     "languageId": "shellscript"
    }
   },
   "outputs": [],
   "source": []
  },
  {
   "cell_type": "markdown",
   "id": "4baee450-ee80-458f-b9d4-63bd757d681d",
   "metadata": {},
   "source": [
    "## from tool flow get the node graph required"
   ]
  },
  {
   "cell_type": "code",
   "execution_count": 117,
   "id": "6b7e5b09-7021-4734-b38f-7c39383e1be3",
   "metadata": {
    "vscode": {
     "languageId": "shellscript"
    }
   },
   "outputs": [],
   "source": [
    "tool_registry = {\n",
    "    \"navigate_to_link\": navigate_to_link,\n",
    "    \"form_filling_tool\": form_filling_tool,\n",
    "    \"click_button_by_html\": click_button_by_html\n",
    "}\n"
   ]
  },
  {
   "cell_type": "code",
   "execution_count": 118,
   "id": "a9d2bdd7-6f36-415a-ac0a-dd55f6014093",
   "metadata": {
    "vscode": {
     "languageId": "shellscript"
    }
   },
   "outputs": [],
   "source": [
    "example =  {\n",
    "        \"step\": \"Navigate to the contact creation page\",\n",
    "        \"tool\": \"navigate_to_link\",\n",
    "        \"action\": \"Go to relative URL '/contacts/add' from base URL\"\n",
    "    }"
   ]
  },
  {
   "cell_type": "code",
   "execution_count": 119,
   "id": "2fccf75c-829c-49b0-b32a-ca0b5a08d030",
   "metadata": {
    "vscode": {
     "languageId": "shellscript"
    }
   },
   "outputs": [
    {
     "name": "stdout",
     "output_type": "stream",
     "text": [
      "[\"Navigate to the dashboard page -> navigate_to_link -> Go to relative URL '/dashboard' from base URL \", \" Navigate to the contacts page -> navigate_to_link -> Go to relative URL '/contacts' from base URL \", \" Navigate to the contact creation page -> navigate_to_link -> Go to relative URL '/contacts/add' from base URL \", \" Fill out the form with name, email, and notes -> form_filling_tool -> Fill 'name' with provided name, 'email' with provided email, and 'notes' with provided notes \", ' Verify the new contact has been added -> No tool available for this step as it requires verification, however, the form_filling_tool will submit the form and navigate to the next page automatically, achieving the same result as the original steps 5 and 6']\n",
      "Navigate to the dashboard page\n",
      "navigate_to_link\n",
      "Go to relative URL '/dashboard' from base URL\n",
      "Navigate to the contacts page\n",
      "navigate_to_link\n",
      "Go to relative URL '/contacts' from base URL\n",
      "Navigate to the contact creation page\n",
      "navigate_to_link\n",
      "Go to relative URL '/contacts/add' from base URL\n",
      "Fill out the form with name, email, and notes\n",
      "form_filling_tool\n",
      "Fill 'name' with provided name, 'email' with provided email, and 'notes' with provided notes\n",
      "Verify the new contact has been added\n"
     ]
    }
   ],
   "source": [
    "print(tool_flow_list)\n",
    "parsed_plan = []\n",
    "for s in tool_flow_list:\n",
    "    parsed = {}\n",
    "\n",
    "    match = re.match(r\"^(.*?)\\s*->\", s)\n",
    "    if match:\n",
    "        step_description = match.group(1).strip()\n",
    "        print(step_description)\n",
    "\n",
    "    match = re.match(r\"^[^>]*->\\s*([^>]+?)\\s*->\", s)\n",
    "    if match:\n",
    "        tool_name = match.group(1).strip()\n",
    "        print(tool_name)\n",
    "\n",
    "    match = re.match(r\"^[^>]*->[^>]*->\\s*(.*)$\", s)\n",
    "    if match:\n",
    "        action = match.group(1).strip()\n",
    "        print(action)\n",
    "        \n",
    "    parsed['step'] = step_description\n",
    "    parsed['tool'] = tool_name\n",
    "    parsed['action'] = action\n",
    "\n",
    "    parsed_plan.append(parsed)\n",
    "    \n",
    "    \n",
    "    "
   ]
  },
  {
   "cell_type": "code",
   "execution_count": 120,
   "id": "4730a295-38d9-4dfa-88ba-5a4260529d85",
   "metadata": {
    "vscode": {
     "languageId": "shellscript"
    }
   },
   "outputs": [
    {
     "data": {
      "text/plain": [
       "[{'step': 'Navigate to the dashboard page',\n",
       "  'tool': 'navigate_to_link',\n",
       "  'action': \"Go to relative URL '/dashboard' from base URL\"},\n",
       " {'step': 'Navigate to the contacts page',\n",
       "  'tool': 'navigate_to_link',\n",
       "  'action': \"Go to relative URL '/contacts' from base URL\"},\n",
       " {'step': 'Navigate to the contact creation page',\n",
       "  'tool': 'navigate_to_link',\n",
       "  'action': \"Go to relative URL '/contacts/add' from base URL\"},\n",
       " {'step': 'Fill out the form with name, email, and notes',\n",
       "  'tool': 'form_filling_tool',\n",
       "  'action': \"Fill 'name' with provided name, 'email' with provided email, and 'notes' with provided notes\"},\n",
       " {'step': 'Verify the new contact has been added',\n",
       "  'tool': 'form_filling_tool',\n",
       "  'action': \"Fill 'name' with provided name, 'email' with provided email, and 'notes' with provided notes\"}]"
      ]
     },
     "execution_count": 120,
     "metadata": {},
     "output_type": "execute_result"
    }
   ],
   "source": [
    "parsed_plan"
   ]
  },
  {
   "cell_type": "code",
   "execution_count": 121,
   "id": "76e0ab5e",
   "metadata": {
    "vscode": {
     "languageId": "shellscript"
    }
   },
   "outputs": [
    {
     "data": {
      "text/plain": [
       "'<!DOCTYPE html><html lang=\"en\"><head>\\n    <meta charset=\"UTF-8\">\\n    <title>MiniCRM</title>\\n    <link rel=\"stylesheet\" href=\"/static/style.css\">\\n</head>\\n<body>\\n    <header>\\n        <h1>MiniCRM Dashboard</h1>\\n        <nav>\\n            <a href=\"/dashboard\">🏠 Dashboard</a> |\\n            <a href=\"/contacts\">📇 Contacts</a> |\\n            <a href=\"/tickets\">🎫 Tickets</a> |\\n            <a href=\"/admin\">⚙️ Admin</a>\\n        </nav>\\n        <hr>\\n    </header>\\n\\n    \\n      \\n    \\n\\n    <main>\\n        \\n<h2>🔍 Search Results</h2>\\n\\n\\n    <p>No matching contacts found.</p>\\n\\n\\n<p><a href=\"/contacts\">← Back to Contacts</a></p>\\n\\n    </main>\\n\\n</body></html>'"
      ]
     },
     "execution_count": 121,
     "metadata": {},
     "output_type": "execute_result"
    }
   ],
   "source": [
    "content = await page.content()\n",
    "content"
   ]
  },
  {
   "cell_type": "code",
   "execution_count": 122,
   "id": "f050d5fd",
   "metadata": {
    "vscode": {
     "languageId": "shellscript"
    }
   },
   "outputs": [
    {
     "ename": "NameError",
     "evalue": "name 'text' is not defined",
     "output_type": "error",
     "traceback": [
      "\u001b[31m---------------------------------------------------------------------------\u001b[39m",
      "\u001b[31mNameError\u001b[39m                                 Traceback (most recent call last)",
      "\u001b[36mCell\u001b[39m\u001b[36m \u001b[39m\u001b[32mIn[122]\u001b[39m\u001b[32m, line 13\u001b[39m\n\u001b[32m      9\u001b[39m         \u001b[38;5;28mprint\u001b[39m(\u001b[33m\"\u001b[39m\u001b[33mNo JSON found.\u001b[39m\u001b[33m\"\u001b[39m)\n\u001b[32m     11\u001b[39m     \u001b[38;5;28;01mreturn\u001b[39;00m json_data\n\u001b[32m---> \u001b[39m\u001b[32m13\u001b[39m json_data = get_json_from_output(\u001b[43mtext\u001b[49m)\n",
      "\u001b[31mNameError\u001b[39m: name 'text' is not defined"
     ]
    }
   ],
   "source": [
    "def get_json_from_output(text):\n",
    "    match = re.search(r'```json\\s*(\\{.*?\\})\\s*```', text, re.DOTALL)\n",
    "\n",
    "    if match:\n",
    "        json_str = match.group(1)\n",
    "        json_data = json.loads(json_str)\n",
    "        # print(json_data)\n",
    "    else:\n",
    "        print(\"No JSON found.\")\n",
    "    \n",
    "    return json_data\n",
    "\n",
    "json_data = get_json_from_output(text)"
   ]
  },
  {
   "cell_type": "code",
   "execution_count": 123,
   "id": "5dac00f0-4cb7-4882-84f4-245ab3aa35cd",
   "metadata": {
    "vscode": {
     "languageId": "shellscript"
    }
   },
   "outputs": [],
   "source": [
    "from langchain_core.prompts import PromptTemplate\n",
    "from langchain.chains import LLMChain\n",
    "import json\n",
    "\n",
    "# 1. Define your LLM\n",
    "from langchain_groq import ChatGroq\n",
    "from langchain.prompts import PromptTemplate\n",
    "from langchain.chains import LLMChain\n",
    "from dotenv import load_dotenv\n",
    "import os\n",
    "\n",
    "load_dotenv(dotenv_path=\"./.env\")\n",
    "\n",
    "\n",
    "GROQ_API_KEY = os.environ.get(\"GROQ_API_KEY\")\n",
    "\n",
    "# Groq model setup (e.g., Mixtral)\n",
    "llm = ChatGroq(\n",
    "    temperature=0,\n",
    "    model_name=\"llama-3.3-70b-versatile\",  # or gemma-7b-it, llama3-8b-8192\n",
    "    groq_api_key=GROQ_API_KEY # or set via env variable\n",
    ")\n",
    "\n",
    "\n",
    "\n",
    "\n",
    "\n",
    "\n",
    "\n",
    "\n",
    "\n",
    "# 2. Define the agent's prompt\n",
    "prompt = PromptTemplate.from_template(\"\"\"\n",
    "You are an automation agent. Your job is to decide which tool to use and what values to fill in, based on the page's HTML and the current step.\n",
    "\n",
    "Available tools:\n",
    "- navigate_to_link\n",
    "- form_filling_tool\n",
    "- click_button_by_html\n",
    "\n",
    "Each tool has its own input format:\n",
    "- navigate_to_link: {{ \"relative_url\": \"...\" }}\n",
    "- form_filling_tool: {{ \"form_html\": \"...\", \"values\": {{ \"name\": \"...\", \"email\": \"...\", \"notes\": \"...\" }} }}\n",
    "- click_button_by_html: {{ \"button_html\": \"...\" }}\n",
    "\n",
    "Reply with a JSON object:\n",
    "{{ \"tool\": \"...\", \"tool_args\": {{ ... }} }}\n",
    "\n",
    "\n",
    "only when filling form fill the empty values with some examples \n",
    "\n",
    "\n",
    "Step: {step_description}\n",
    "\n",
    "Action for the agent to do : {step_action}\n",
    "Current Page HTML:\n",
    "{page_html}\n",
    "\n",
    "\n",
    "- Choose the correct tool and provide only the **required minimal arguments**.\n",
    "- Wrap the final output in **markdown-style fenced code block** with `json`, like this:\n",
    "- fill the form values with dummy names\n",
    "\n",
    "```json\n",
    "```\n",
    "\n",
    "\n",
    "\n",
    "\n",
    "\"\"\")\n",
    "\n",
    "\n",
    "\n",
    "\n",
    "\n",
    "\n",
    "# 3. Wrap in LLMChain\n",
    "agent = LLMChain(llm=llm, prompt=prompt)\n",
    "\n",
    "# 4. Your function with the agent integrated\n",
    "async def run_plan(parsed_plan, initial_page_html):\n",
    "    state = {\n",
    "        \"home_url\":\"http://127.0.0.1:5000/\",\n",
    "        \"page\":page,\n",
    "        \"page_html\": initial_page_html,\n",
    "        \"current_step\": 0,\n",
    "        \"history\": []\n",
    "    }\n",
    "\n",
    "    for idx, step_info in enumerate(parsed_plan):\n",
    "        print(f\"\\n➡️ Step {idx+1}: {step_info['step']}\")\n",
    "\n",
    "        page_html = state[\"page_html\"]\n",
    "        step_description = step_info[\"step\"]\n",
    "        step_action =  step_info[\"action\"]\n",
    "        # 5. LLM agent input\n",
    "        agent_input = {\n",
    "            \"page_html\": page_html,\n",
    "            \"step_description\": step_description,\n",
    "            \"step_action\": step_action\n",
    "            \n",
    "        }\n",
    "\n",
    "        # 6. Use LLM agent to choose tool and args\n",
    "        # decision_raw = await agent.ainvoke(agent_input)\n",
    "        # print(decision_raw)\n",
    "        # decision = json.loads(decision_raw[\"text\"]) \n",
    "\n",
    "        try:\n",
    "            decision_raw = await agent.ainvoke(agent_input)\n",
    "            print(f\"AGENT OUTPUT : {decision_raw} \\n\\n\")\n",
    "             # assumes LLMChain returns text field\n",
    "            \n",
    "        except Exception as e:\n",
    "            print(f\"❌ Failed to get response from agent: {e}\")\n",
    "            break\n",
    "\n",
    "\n",
    "        try:\n",
    "            decision = get_json_from_output(decision_raw[\"text\"]) \n",
    "            print(f\" EXTRACTED JSON : {decision}\")\n",
    "        except Exception as e:\n",
    "            print(f\"❌ Failed to parse agent output: {e}\")\n",
    "        \n",
    "        \n",
    "\n",
    "        tool_name = decision.get(\"tool\")\n",
    "        tool_args = decision.get(\"tool_args\", {})\n",
    "        tool_args['state'] = state\n",
    "        tool_func = tool_registry.get(tool_name)\n",
    "\n",
    "\n",
    "        print(f\"TOOL DETAILS : TOOL_NAME -> {tool_name} | TOOL_ARGS  -> {tool_args} | REGISTRY FUNC -> {tool_func} \")\n",
    "\n",
    "        if tool_func is None:\n",
    "            print(f\"❌ Tool '{tool_name}' not found\")\n",
    "            break\n",
    "\n",
    "        result = await tool_func.ainvoke(tool_args)\n",
    "        new_page_html = result.get(\"new_page_html\", page_html)\n",
    "            \n",
    "        \n",
    "        \n",
    "        \n",
    "        try:\n",
    "            print(f\"🔧 Running tool: {tool_name}\")\n",
    "            \n",
    "            result = await tool_func.ainvoke(tool_args)\n",
    "            new_page_html = result.get(\"new_page_html\", page_html)\n",
    "\n",
    "        except Exception as e:\n",
    "            print(f\"❌ Error running tool: {e}\")\n",
    "            break\n",
    "\n",
    "        # 7. Update state\n",
    "        state[\"history\"].append({\n",
    "            \"step\": step_info[\"step\"],\n",
    "            \"tool\": tool_name,\n",
    "            \"args\": tool_args,\n",
    "            \"result\": result\n",
    "        })\n",
    "        state[\"page_html\"] = new_page_html\n",
    "        state[\"current_step\"] += 1\n",
    "\n",
    "    print(\"✅ All steps executed.\")\n",
    "    return state\n"
   ]
  },
  {
   "cell_type": "code",
   "execution_count": 124,
   "id": "f982a239-7821-4a73-8999-22508c3e4a12",
   "metadata": {
    "vscode": {
     "languageId": "shellscript"
    }
   },
   "outputs": [
    {
     "name": "stdout",
     "output_type": "stream",
     "text": [
      "\n",
      "➡️ Step 1: Navigate to the dashboard page\n",
      "AGENT OUTPUT : {'page_html': '<!DOCTYPE html><html lang=\"en\"><head>\\n    <meta charset=\"UTF-8\">\\n    <title>MiniCRM</title>\\n    <link rel=\"stylesheet\" href=\"/static/style.css\">\\n</head>\\n<body>\\n    <header>\\n        <h1>MiniCRM Dashboard</h1>\\n        <nav>\\n            <a href=\"/dashboard\">🏠 Dashboard</a> |\\n            <a href=\"/contacts\">📇 Contacts</a> |\\n            <a href=\"/tickets\">🎫 Tickets</a> |\\n            <a href=\"/admin\">⚙️ Admin</a>\\n        </nav>\\n        <hr>\\n    </header>\\n\\n    \\n      \\n    \\n\\n    <main>\\n        \\n<h2>🔍 Search Results</h2>\\n\\n\\n    <p>No matching contacts found.</p>\\n\\n\\n<p><a href=\"/contacts\">← Back to Contacts</a></p>\\n\\n    </main>\\n\\n</body></html>', 'step_description': 'Navigate to the dashboard page', 'step_action': \"Go to relative URL '/dashboard' from base URL\", 'text': '```json\\n{\\n    \"tool\": \"navigate_to_link\",\\n    \"tool_args\": {\\n        \"relative_url\": \"/dashboard\"\\n    }\\n}\\n```'} \n",
      "\n",
      "\n",
      " EXTRACTED JSON : {'tool': 'navigate_to_link', 'tool_args': {'relative_url': '/dashboard'}}\n",
      "TOOL DETAILS : TOOL_NAME -> navigate_to_link | TOOL_ARGS  -> {'relative_url': '/dashboard', 'state': {'home_url': 'http://127.0.0.1:5000/', 'page': <pyppeteer.page.Page object at 0x7acce41ee8a0>, 'page_html': '<!DOCTYPE html><html lang=\"en\"><head>\\n    <meta charset=\"UTF-8\">\\n    <title>MiniCRM</title>\\n    <link rel=\"stylesheet\" href=\"/static/style.css\">\\n</head>\\n<body>\\n    <header>\\n        <h1>MiniCRM Dashboard</h1>\\n        <nav>\\n            <a href=\"/dashboard\">🏠 Dashboard</a> |\\n            <a href=\"/contacts\">📇 Contacts</a> |\\n            <a href=\"/tickets\">🎫 Tickets</a> |\\n            <a href=\"/admin\">⚙️ Admin</a>\\n        </nav>\\n        <hr>\\n    </header>\\n\\n    \\n      \\n    \\n\\n    <main>\\n        \\n<h2>🔍 Search Results</h2>\\n\\n\\n    <p>No matching contacts found.</p>\\n\\n\\n<p><a href=\"/contacts\">← Back to Contacts</a></p>\\n\\n    </main>\\n\\n</body></html>', 'current_step': 0, 'history': []}} | REGISTRY FUNC -> name='navigate_to_link' description='Navigate to a selected link (relative path like \\'/dashboard\\')\\nArgs:\\n    state (dict): Must contain a Puppeteer page object in `state[\"page\"]`\\n    relative_url (str): e.g. \\'/dashboard\\'\\nReturns:\\n    dict: Updated state with last action' args_schema=<class 'langchain_core.utils.pydantic.navigate_to_link'> coroutine=<function navigate_to_link at 0x7accd7ccdd00> \n",
      "🔧 Running tool: navigate_to_link\n",
      "\n",
      "➡️ Step 2: Navigate to the contacts page\n",
      "AGENT OUTPUT : {'page_html': '<!DOCTYPE html><html lang=\"en\"><head>\\n    <meta charset=\"UTF-8\">\\n    <title>MiniCRM</title>\\n    <link rel=\"stylesheet\" href=\"/static/style.css\">\\n</head>\\n<body>\\n    <header>\\n        <h1>MiniCRM Dashboard</h1>\\n        <nav>\\n            <a href=\"/dashboard\">🏠 Dashboard</a> |\\n            <a href=\"/contacts\">📇 Contacts</a> |\\n            <a href=\"/tickets\">🎫 Tickets</a> |\\n            <a href=\"/admin\">⚙️ Admin</a>\\n        </nav>\\n        <hr>\\n    </header>\\n\\n    \\n      \\n    \\n\\n    <main>\\n        \\n<h2>🔍 Search Results</h2>\\n\\n\\n    <p>No matching contacts found.</p>\\n\\n\\n<p><a href=\"/contacts\">← Back to Contacts</a></p>\\n\\n    </main>\\n\\n</body></html>', 'step_description': 'Navigate to the contacts page', 'step_action': \"Go to relative URL '/contacts' from base URL\", 'text': '```json\\n{\\n    \"tool\": \"navigate_to_link\",\\n    \"tool_args\": {\\n        \"relative_url\": \"/contacts\"\\n    }\\n}\\n```'} \n",
      "\n",
      "\n",
      " EXTRACTED JSON : {'tool': 'navigate_to_link', 'tool_args': {'relative_url': '/contacts'}}\n",
      "TOOL DETAILS : TOOL_NAME -> navigate_to_link | TOOL_ARGS  -> {'relative_url': '/contacts', 'state': {'home_url': 'http://127.0.0.1:5000/', 'page': <pyppeteer.page.Page object at 0x7acce41ee8a0>, 'page_html': '<!DOCTYPE html><html lang=\"en\"><head>\\n    <meta charset=\"UTF-8\">\\n    <title>MiniCRM</title>\\n    <link rel=\"stylesheet\" href=\"/static/style.css\">\\n</head>\\n<body>\\n    <header>\\n        <h1>MiniCRM Dashboard</h1>\\n        <nav>\\n            <a href=\"/dashboard\">🏠 Dashboard</a> |\\n            <a href=\"/contacts\">📇 Contacts</a> |\\n            <a href=\"/tickets\">🎫 Tickets</a> |\\n            <a href=\"/admin\">⚙️ Admin</a>\\n        </nav>\\n        <hr>\\n    </header>\\n\\n    \\n      \\n    \\n\\n    <main>\\n        \\n<h2>🔍 Search Results</h2>\\n\\n\\n    <p>No matching contacts found.</p>\\n\\n\\n<p><a href=\"/contacts\">← Back to Contacts</a></p>\\n\\n    </main>\\n\\n</body></html>', 'current_step': 1, 'history': [{'step': 'Navigate to the dashboard page', 'tool': 'navigate_to_link', 'args': {'relative_url': '/dashboard', 'state': {...}}, 'result': {'home_url': 'http://127.0.0.1:5000/', 'page': <pyppeteer.page.Page object at 0x7acce41ee8a0>, 'page_html': '<!DOCTYPE html><html lang=\"en\"><head>\\n    <meta charset=\"UTF-8\">\\n    <title>MiniCRM</title>\\n    <link rel=\"stylesheet\" href=\"/static/style.css\">\\n</head>\\n<body>\\n    <header>\\n        <h1>MiniCRM Dashboard</h1>\\n        <nav>\\n            <a href=\"/dashboard\">🏠 Dashboard</a> |\\n            <a href=\"/contacts\">📇 Contacts</a> |\\n            <a href=\"/tickets\">🎫 Tickets</a> |\\n            <a href=\"/admin\">⚙️ Admin</a>\\n        </nav>\\n        <hr>\\n    </header>\\n\\n    \\n      \\n    \\n\\n    <main>\\n        \\n<h2>🔍 Search Results</h2>\\n\\n\\n    <p>No matching contacts found.</p>\\n\\n\\n<p><a href=\"/contacts\">← Back to Contacts</a></p>\\n\\n    </main>\\n\\n</body></html>', 'current_step': 0, 'history': [...], 'curr_url': 'http://127.0.0.1:5000/dashboard', 'last_action': '✅ Navigated to http://127.0.0.1:5000/dashboard'}}]}} | REGISTRY FUNC -> name='navigate_to_link' description='Navigate to a selected link (relative path like \\'/dashboard\\')\\nArgs:\\n    state (dict): Must contain a Puppeteer page object in `state[\"page\"]`\\n    relative_url (str): e.g. \\'/dashboard\\'\\nReturns:\\n    dict: Updated state with last action' args_schema=<class 'langchain_core.utils.pydantic.navigate_to_link'> coroutine=<function navigate_to_link at 0x7accd7ccdd00> \n",
      "🔧 Running tool: navigate_to_link\n",
      "\n",
      "➡️ Step 3: Navigate to the contact creation page\n",
      "AGENT OUTPUT : {'page_html': '<!DOCTYPE html><html lang=\"en\"><head>\\n    <meta charset=\"UTF-8\">\\n    <title>MiniCRM</title>\\n    <link rel=\"stylesheet\" href=\"/static/style.css\">\\n</head>\\n<body>\\n    <header>\\n        <h1>MiniCRM Dashboard</h1>\\n        <nav>\\n            <a href=\"/dashboard\">🏠 Dashboard</a> |\\n            <a href=\"/contacts\">📇 Contacts</a> |\\n            <a href=\"/tickets\">🎫 Tickets</a> |\\n            <a href=\"/admin\">⚙️ Admin</a>\\n        </nav>\\n        <hr>\\n    </header>\\n\\n    \\n      \\n    \\n\\n    <main>\\n        \\n<h2>🔍 Search Results</h2>\\n\\n\\n    <p>No matching contacts found.</p>\\n\\n\\n<p><a href=\"/contacts\">← Back to Contacts</a></p>\\n\\n    </main>\\n\\n</body></html>', 'step_description': 'Navigate to the contact creation page', 'step_action': \"Go to relative URL '/contacts/add' from base URL\", 'text': '```json\\n{\\n    \"tool\": \"navigate_to_link\",\\n    \"tool_args\": {\\n        \"relative_url\": \"/contacts/add\"\\n    }\\n}\\n```'} \n",
      "\n",
      "\n",
      " EXTRACTED JSON : {'tool': 'navigate_to_link', 'tool_args': {'relative_url': '/contacts/add'}}\n",
      "TOOL DETAILS : TOOL_NAME -> navigate_to_link | TOOL_ARGS  -> {'relative_url': '/contacts/add', 'state': {'home_url': 'http://127.0.0.1:5000/', 'page': <pyppeteer.page.Page object at 0x7acce41ee8a0>, 'page_html': '<!DOCTYPE html><html lang=\"en\"><head>\\n    <meta charset=\"UTF-8\">\\n    <title>MiniCRM</title>\\n    <link rel=\"stylesheet\" href=\"/static/style.css\">\\n</head>\\n<body>\\n    <header>\\n        <h1>MiniCRM Dashboard</h1>\\n        <nav>\\n            <a href=\"/dashboard\">🏠 Dashboard</a> |\\n            <a href=\"/contacts\">📇 Contacts</a> |\\n            <a href=\"/tickets\">🎫 Tickets</a> |\\n            <a href=\"/admin\">⚙️ Admin</a>\\n        </nav>\\n        <hr>\\n    </header>\\n\\n    \\n      \\n    \\n\\n    <main>\\n        \\n<h2>🔍 Search Results</h2>\\n\\n\\n    <p>No matching contacts found.</p>\\n\\n\\n<p><a href=\"/contacts\">← Back to Contacts</a></p>\\n\\n    </main>\\n\\n</body></html>', 'current_step': 2, 'history': [{'step': 'Navigate to the dashboard page', 'tool': 'navigate_to_link', 'args': {'relative_url': '/dashboard', 'state': {...}}, 'result': {'home_url': 'http://127.0.0.1:5000/', 'page': <pyppeteer.page.Page object at 0x7acce41ee8a0>, 'page_html': '<!DOCTYPE html><html lang=\"en\"><head>\\n    <meta charset=\"UTF-8\">\\n    <title>MiniCRM</title>\\n    <link rel=\"stylesheet\" href=\"/static/style.css\">\\n</head>\\n<body>\\n    <header>\\n        <h1>MiniCRM Dashboard</h1>\\n        <nav>\\n            <a href=\"/dashboard\">🏠 Dashboard</a> |\\n            <a href=\"/contacts\">📇 Contacts</a> |\\n            <a href=\"/tickets\">🎫 Tickets</a> |\\n            <a href=\"/admin\">⚙️ Admin</a>\\n        </nav>\\n        <hr>\\n    </header>\\n\\n    \\n      \\n    \\n\\n    <main>\\n        \\n<h2>🔍 Search Results</h2>\\n\\n\\n    <p>No matching contacts found.</p>\\n\\n\\n<p><a href=\"/contacts\">← Back to Contacts</a></p>\\n\\n    </main>\\n\\n</body></html>', 'current_step': 0, 'history': [...], 'curr_url': 'http://127.0.0.1:5000/dashboard', 'last_action': '✅ Navigated to http://127.0.0.1:5000/dashboard'}}, {'step': 'Navigate to the contacts page', 'tool': 'navigate_to_link', 'args': {'relative_url': '/contacts', 'state': {...}}, 'result': {'home_url': 'http://127.0.0.1:5000/', 'page': <pyppeteer.page.Page object at 0x7acce41ee8a0>, 'page_html': '<!DOCTYPE html><html lang=\"en\"><head>\\n    <meta charset=\"UTF-8\">\\n    <title>MiniCRM</title>\\n    <link rel=\"stylesheet\" href=\"/static/style.css\">\\n</head>\\n<body>\\n    <header>\\n        <h1>MiniCRM Dashboard</h1>\\n        <nav>\\n            <a href=\"/dashboard\">🏠 Dashboard</a> |\\n            <a href=\"/contacts\">📇 Contacts</a> |\\n            <a href=\"/tickets\">🎫 Tickets</a> |\\n            <a href=\"/admin\">⚙️ Admin</a>\\n        </nav>\\n        <hr>\\n    </header>\\n\\n    \\n      \\n    \\n\\n    <main>\\n        \\n<h2>🔍 Search Results</h2>\\n\\n\\n    <p>No matching contacts found.</p>\\n\\n\\n<p><a href=\"/contacts\">← Back to Contacts</a></p>\\n\\n    </main>\\n\\n</body></html>', 'current_step': 1, 'history': [...], 'curr_url': 'http://127.0.0.1:5000/contacts', 'last_action': '✅ Navigated to http://127.0.0.1:5000/contacts'}}]}} | REGISTRY FUNC -> name='navigate_to_link' description='Navigate to a selected link (relative path like \\'/dashboard\\')\\nArgs:\\n    state (dict): Must contain a Puppeteer page object in `state[\"page\"]`\\n    relative_url (str): e.g. \\'/dashboard\\'\\nReturns:\\n    dict: Updated state with last action' args_schema=<class 'langchain_core.utils.pydantic.navigate_to_link'> coroutine=<function navigate_to_link at 0x7accd7ccdd00> \n",
      "🔧 Running tool: navigate_to_link\n",
      "\n",
      "➡️ Step 4: Fill out the form with name, email, and notes\n",
      "AGENT OUTPUT : {'page_html': '<!DOCTYPE html><html lang=\"en\"><head>\\n    <meta charset=\"UTF-8\">\\n    <title>MiniCRM</title>\\n    <link rel=\"stylesheet\" href=\"/static/style.css\">\\n</head>\\n<body>\\n    <header>\\n        <h1>MiniCRM Dashboard</h1>\\n        <nav>\\n            <a href=\"/dashboard\">🏠 Dashboard</a> |\\n            <a href=\"/contacts\">📇 Contacts</a> |\\n            <a href=\"/tickets\">🎫 Tickets</a> |\\n            <a href=\"/admin\">⚙️ Admin</a>\\n        </nav>\\n        <hr>\\n    </header>\\n\\n    \\n      \\n    \\n\\n    <main>\\n        \\n<h2>🔍 Search Results</h2>\\n\\n\\n    <p>No matching contacts found.</p>\\n\\n\\n<p><a href=\"/contacts\">← Back to Contacts</a></p>\\n\\n    </main>\\n\\n</body></html>', 'step_description': 'Fill out the form with name, email, and notes', 'step_action': \"Fill 'name' with provided name, 'email' with provided email, and 'notes' with provided notes\", 'text': '```json\\n{\\n    \"tool\": \"form_filling_tool\",\\n    \"tool_args\": {\\n        \"form_html\": \"\",\\n        \"values\": {\\n            \"name\": \"John Doe\",\\n            \"email\": \"john@example.com\",\\n            \"notes\": \"Some example notes\"\\n        }\\n    }\\n}\\n```'} \n",
      "\n",
      "\n",
      " EXTRACTED JSON : {'tool': 'form_filling_tool', 'tool_args': {'form_html': '', 'values': {'name': 'John Doe', 'email': 'john@example.com', 'notes': 'Some example notes'}}}\n",
      "TOOL DETAILS : TOOL_NAME -> form_filling_tool | TOOL_ARGS  -> {'form_html': '', 'values': {'name': 'John Doe', 'email': 'john@example.com', 'notes': 'Some example notes'}, 'state': {'home_url': 'http://127.0.0.1:5000/', 'page': <pyppeteer.page.Page object at 0x7acce41ee8a0>, 'page_html': '<!DOCTYPE html><html lang=\"en\"><head>\\n    <meta charset=\"UTF-8\">\\n    <title>MiniCRM</title>\\n    <link rel=\"stylesheet\" href=\"/static/style.css\">\\n</head>\\n<body>\\n    <header>\\n        <h1>MiniCRM Dashboard</h1>\\n        <nav>\\n            <a href=\"/dashboard\">🏠 Dashboard</a> |\\n            <a href=\"/contacts\">📇 Contacts</a> |\\n            <a href=\"/tickets\">🎫 Tickets</a> |\\n            <a href=\"/admin\">⚙️ Admin</a>\\n        </nav>\\n        <hr>\\n    </header>\\n\\n    \\n      \\n    \\n\\n    <main>\\n        \\n<h2>🔍 Search Results</h2>\\n\\n\\n    <p>No matching contacts found.</p>\\n\\n\\n<p><a href=\"/contacts\">← Back to Contacts</a></p>\\n\\n    </main>\\n\\n</body></html>', 'current_step': 3, 'history': [{'step': 'Navigate to the dashboard page', 'tool': 'navigate_to_link', 'args': {'relative_url': '/dashboard', 'state': {...}}, 'result': {'home_url': 'http://127.0.0.1:5000/', 'page': <pyppeteer.page.Page object at 0x7acce41ee8a0>, 'page_html': '<!DOCTYPE html><html lang=\"en\"><head>\\n    <meta charset=\"UTF-8\">\\n    <title>MiniCRM</title>\\n    <link rel=\"stylesheet\" href=\"/static/style.css\">\\n</head>\\n<body>\\n    <header>\\n        <h1>MiniCRM Dashboard</h1>\\n        <nav>\\n            <a href=\"/dashboard\">🏠 Dashboard</a> |\\n            <a href=\"/contacts\">📇 Contacts</a> |\\n            <a href=\"/tickets\">🎫 Tickets</a> |\\n            <a href=\"/admin\">⚙️ Admin</a>\\n        </nav>\\n        <hr>\\n    </header>\\n\\n    \\n      \\n    \\n\\n    <main>\\n        \\n<h2>🔍 Search Results</h2>\\n\\n\\n    <p>No matching contacts found.</p>\\n\\n\\n<p><a href=\"/contacts\">← Back to Contacts</a></p>\\n\\n    </main>\\n\\n</body></html>', 'current_step': 0, 'history': [...], 'curr_url': 'http://127.0.0.1:5000/dashboard', 'last_action': '✅ Navigated to http://127.0.0.1:5000/dashboard'}}, {'step': 'Navigate to the contacts page', 'tool': 'navigate_to_link', 'args': {'relative_url': '/contacts', 'state': {...}}, 'result': {'home_url': 'http://127.0.0.1:5000/', 'page': <pyppeteer.page.Page object at 0x7acce41ee8a0>, 'page_html': '<!DOCTYPE html><html lang=\"en\"><head>\\n    <meta charset=\"UTF-8\">\\n    <title>MiniCRM</title>\\n    <link rel=\"stylesheet\" href=\"/static/style.css\">\\n</head>\\n<body>\\n    <header>\\n        <h1>MiniCRM Dashboard</h1>\\n        <nav>\\n            <a href=\"/dashboard\">🏠 Dashboard</a> |\\n            <a href=\"/contacts\">📇 Contacts</a> |\\n            <a href=\"/tickets\">🎫 Tickets</a> |\\n            <a href=\"/admin\">⚙️ Admin</a>\\n        </nav>\\n        <hr>\\n    </header>\\n\\n    \\n      \\n    \\n\\n    <main>\\n        \\n<h2>🔍 Search Results</h2>\\n\\n\\n    <p>No matching contacts found.</p>\\n\\n\\n<p><a href=\"/contacts\">← Back to Contacts</a></p>\\n\\n    </main>\\n\\n</body></html>', 'current_step': 1, 'history': [...], 'curr_url': 'http://127.0.0.1:5000/contacts', 'last_action': '✅ Navigated to http://127.0.0.1:5000/contacts'}}, {'step': 'Navigate to the contact creation page', 'tool': 'navigate_to_link', 'args': {'relative_url': '/contacts/add', 'state': {...}}, 'result': {'home_url': 'http://127.0.0.1:5000/', 'page': <pyppeteer.page.Page object at 0x7acce41ee8a0>, 'page_html': '<!DOCTYPE html><html lang=\"en\"><head>\\n    <meta charset=\"UTF-8\">\\n    <title>MiniCRM</title>\\n    <link rel=\"stylesheet\" href=\"/static/style.css\">\\n</head>\\n<body>\\n    <header>\\n        <h1>MiniCRM Dashboard</h1>\\n        <nav>\\n            <a href=\"/dashboard\">🏠 Dashboard</a> |\\n            <a href=\"/contacts\">📇 Contacts</a> |\\n            <a href=\"/tickets\">🎫 Tickets</a> |\\n            <a href=\"/admin\">⚙️ Admin</a>\\n        </nav>\\n        <hr>\\n    </header>\\n\\n    \\n      \\n    \\n\\n    <main>\\n        \\n<h2>🔍 Search Results</h2>\\n\\n\\n    <p>No matching contacts found.</p>\\n\\n\\n<p><a href=\"/contacts\">← Back to Contacts</a></p>\\n\\n    </main>\\n\\n</body></html>', 'current_step': 2, 'history': [...], 'curr_url': 'http://127.0.0.1:5000/contacts/add', 'last_action': '✅ Navigated to http://127.0.0.1:5000/contacts/add'}}]}} | REGISTRY FUNC -> name='form_filling_tool' description='Fill out and submit a form using the parsed input names and user-provided values.\\n\\nArgs:\\n    state: LangGraph agent state with a Puppeteer page\\n    form_html: HTML string of the <form>\\n    values: Dict of field names and their values (e.g., {\"name\": \"John\", \"email\": \"john@example.com\"})' args_schema=<class 'langchain_core.utils.pydantic.form_filling_tool'> coroutine=<function form_filling_tool at 0x7accd73cf6a0> \n",
      "🔧 Running tool: form_filling_tool\n",
      "\n",
      "➡️ Step 5: Verify the new contact has been added\n",
      "AGENT OUTPUT : {'page_html': '<!DOCTYPE html><html lang=\"en\"><head>\\n    <meta charset=\"UTF-8\">\\n    <title>MiniCRM</title>\\n    <link rel=\"stylesheet\" href=\"/static/style.css\">\\n</head>\\n<body>\\n    <header>\\n        <h1>MiniCRM Dashboard</h1>\\n        <nav>\\n            <a href=\"/dashboard\">🏠 Dashboard</a> |\\n            <a href=\"/contacts\">📇 Contacts</a> |\\n            <a href=\"/tickets\">🎫 Tickets</a> |\\n            <a href=\"/admin\">⚙️ Admin</a>\\n        </nav>\\n        <hr>\\n    </header>\\n\\n    \\n      \\n    \\n\\n    <main>\\n        \\n<h2>🔍 Search Results</h2>\\n\\n\\n    <p>No matching contacts found.</p>\\n\\n\\n<p><a href=\"/contacts\">← Back to Contacts</a></p>\\n\\n    </main>\\n\\n</body></html>', 'step_description': 'Verify the new contact has been added', 'step_action': \"Fill 'name' with provided name, 'email' with provided email, and 'notes' with provided notes\", 'text': '```json\\n{\\n    \"tool\": \"form_filling_tool\",\\n    \"tool_args\": {\\n        \"form_html\": \"\",\\n        \"values\": {\\n            \"name\": \"John Doe\",\\n            \"email\": \"johndoe@example.com\",\\n            \"notes\": \"This is a test note\"\\n        }\\n    }\\n}\\n```'} \n",
      "\n",
      "\n",
      " EXTRACTED JSON : {'tool': 'form_filling_tool', 'tool_args': {'form_html': '', 'values': {'name': 'John Doe', 'email': 'johndoe@example.com', 'notes': 'This is a test note'}}}\n",
      "TOOL DETAILS : TOOL_NAME -> form_filling_tool | TOOL_ARGS  -> {'form_html': '', 'values': {'name': 'John Doe', 'email': 'johndoe@example.com', 'notes': 'This is a test note'}, 'state': {'home_url': 'http://127.0.0.1:5000/', 'page': <pyppeteer.page.Page object at 0x7acce41ee8a0>, 'page_html': '<!DOCTYPE html><html lang=\"en\"><head>\\n    <meta charset=\"UTF-8\">\\n    <title>MiniCRM</title>\\n    <link rel=\"stylesheet\" href=\"/static/style.css\">\\n</head>\\n<body>\\n    <header>\\n        <h1>MiniCRM Dashboard</h1>\\n        <nav>\\n            <a href=\"/dashboard\">🏠 Dashboard</a> |\\n            <a href=\"/contacts\">📇 Contacts</a> |\\n            <a href=\"/tickets\">🎫 Tickets</a> |\\n            <a href=\"/admin\">⚙️ Admin</a>\\n        </nav>\\n        <hr>\\n    </header>\\n\\n    \\n      \\n    \\n\\n    <main>\\n        \\n<h2>🔍 Search Results</h2>\\n\\n\\n    <p>No matching contacts found.</p>\\n\\n\\n<p><a href=\"/contacts\">← Back to Contacts</a></p>\\n\\n    </main>\\n\\n</body></html>', 'current_step': 4, 'history': [{'step': 'Navigate to the dashboard page', 'tool': 'navigate_to_link', 'args': {'relative_url': '/dashboard', 'state': {...}}, 'result': {'home_url': 'http://127.0.0.1:5000/', 'page': <pyppeteer.page.Page object at 0x7acce41ee8a0>, 'page_html': '<!DOCTYPE html><html lang=\"en\"><head>\\n    <meta charset=\"UTF-8\">\\n    <title>MiniCRM</title>\\n    <link rel=\"stylesheet\" href=\"/static/style.css\">\\n</head>\\n<body>\\n    <header>\\n        <h1>MiniCRM Dashboard</h1>\\n        <nav>\\n            <a href=\"/dashboard\">🏠 Dashboard</a> |\\n            <a href=\"/contacts\">📇 Contacts</a> |\\n            <a href=\"/tickets\">🎫 Tickets</a> |\\n            <a href=\"/admin\">⚙️ Admin</a>\\n        </nav>\\n        <hr>\\n    </header>\\n\\n    \\n      \\n    \\n\\n    <main>\\n        \\n<h2>🔍 Search Results</h2>\\n\\n\\n    <p>No matching contacts found.</p>\\n\\n\\n<p><a href=\"/contacts\">← Back to Contacts</a></p>\\n\\n    </main>\\n\\n</body></html>', 'current_step': 0, 'history': [...], 'curr_url': 'http://127.0.0.1:5000/dashboard', 'last_action': '✅ Navigated to http://127.0.0.1:5000/dashboard'}}, {'step': 'Navigate to the contacts page', 'tool': 'navigate_to_link', 'args': {'relative_url': '/contacts', 'state': {...}}, 'result': {'home_url': 'http://127.0.0.1:5000/', 'page': <pyppeteer.page.Page object at 0x7acce41ee8a0>, 'page_html': '<!DOCTYPE html><html lang=\"en\"><head>\\n    <meta charset=\"UTF-8\">\\n    <title>MiniCRM</title>\\n    <link rel=\"stylesheet\" href=\"/static/style.css\">\\n</head>\\n<body>\\n    <header>\\n        <h1>MiniCRM Dashboard</h1>\\n        <nav>\\n            <a href=\"/dashboard\">🏠 Dashboard</a> |\\n            <a href=\"/contacts\">📇 Contacts</a> |\\n            <a href=\"/tickets\">🎫 Tickets</a> |\\n            <a href=\"/admin\">⚙️ Admin</a>\\n        </nav>\\n        <hr>\\n    </header>\\n\\n    \\n      \\n    \\n\\n    <main>\\n        \\n<h2>🔍 Search Results</h2>\\n\\n\\n    <p>No matching contacts found.</p>\\n\\n\\n<p><a href=\"/contacts\">← Back to Contacts</a></p>\\n\\n    </main>\\n\\n</body></html>', 'current_step': 1, 'history': [...], 'curr_url': 'http://127.0.0.1:5000/contacts', 'last_action': '✅ Navigated to http://127.0.0.1:5000/contacts'}}, {'step': 'Navigate to the contact creation page', 'tool': 'navigate_to_link', 'args': {'relative_url': '/contacts/add', 'state': {...}}, 'result': {'home_url': 'http://127.0.0.1:5000/', 'page': <pyppeteer.page.Page object at 0x7acce41ee8a0>, 'page_html': '<!DOCTYPE html><html lang=\"en\"><head>\\n    <meta charset=\"UTF-8\">\\n    <title>MiniCRM</title>\\n    <link rel=\"stylesheet\" href=\"/static/style.css\">\\n</head>\\n<body>\\n    <header>\\n        <h1>MiniCRM Dashboard</h1>\\n        <nav>\\n            <a href=\"/dashboard\">🏠 Dashboard</a> |\\n            <a href=\"/contacts\">📇 Contacts</a> |\\n            <a href=\"/tickets\">🎫 Tickets</a> |\\n            <a href=\"/admin\">⚙️ Admin</a>\\n        </nav>\\n        <hr>\\n    </header>\\n\\n    \\n      \\n    \\n\\n    <main>\\n        \\n<h2>🔍 Search Results</h2>\\n\\n\\n    <p>No matching contacts found.</p>\\n\\n\\n<p><a href=\"/contacts\">← Back to Contacts</a></p>\\n\\n    </main>\\n\\n</body></html>', 'current_step': 2, 'history': [...], 'curr_url': 'http://127.0.0.1:5000/contacts/add', 'last_action': '✅ Navigated to http://127.0.0.1:5000/contacts/add'}}, {'step': 'Fill out the form with name, email, and notes', 'tool': 'form_filling_tool', 'args': {'form_html': '', 'values': {'name': 'John Doe', 'email': 'john@example.com', 'notes': 'Some example notes'}, 'state': {...}}, 'result': {'home_url': 'http://127.0.0.1:5000/', 'page': <pyppeteer.page.Page object at 0x7acce41ee8a0>, 'page_html': '<!DOCTYPE html><html lang=\"en\"><head>\\n    <meta charset=\"UTF-8\">\\n    <title>MiniCRM</title>\\n    <link rel=\"stylesheet\" href=\"/static/style.css\">\\n</head>\\n<body>\\n    <header>\\n        <h1>MiniCRM Dashboard</h1>\\n        <nav>\\n            <a href=\"/dashboard\">🏠 Dashboard</a> |\\n            <a href=\"/contacts\">📇 Contacts</a> |\\n            <a href=\"/tickets\">🎫 Tickets</a> |\\n            <a href=\"/admin\">⚙️ Admin</a>\\n        </nav>\\n        <hr>\\n    </header>\\n\\n    \\n      \\n    \\n\\n    <main>\\n        \\n<h2>🔍 Search Results</h2>\\n\\n\\n    <p>No matching contacts found.</p>\\n\\n\\n<p><a href=\"/contacts\">← Back to Contacts</a></p>\\n\\n    </main>\\n\\n</body></html>', 'current_step': 3, 'history': [...], 'last_action': '⚠️ No submit button found.'}}]}} | REGISTRY FUNC -> name='form_filling_tool' description='Fill out and submit a form using the parsed input names and user-provided values.\\n\\nArgs:\\n    state: LangGraph agent state with a Puppeteer page\\n    form_html: HTML string of the <form>\\n    values: Dict of field names and their values (e.g., {\"name\": \"John\", \"email\": \"john@example.com\"})' args_schema=<class 'langchain_core.utils.pydantic.form_filling_tool'> coroutine=<function form_filling_tool at 0x7accd73cf6a0> \n",
      "🔧 Running tool: form_filling_tool\n",
      "✅ All steps executed.\n"
     ]
    }
   ],
   "source": [
    "state = await run_plan(parsed_plan, content)"
   ]
  },
  {
   "cell_type": "code",
   "execution_count": null,
   "id": "7e4a49f1",
   "metadata": {
    "vscode": {
     "languageId": "shellscript"
    }
   },
   "outputs": [],
   "source": []
  },
  {
   "cell_type": "code",
   "execution_count": null,
   "id": "7da0ab66",
   "metadata": {
    "vscode": {
     "languageId": "shellscript"
    }
   },
   "outputs": [],
   "source": []
  },
  {
   "cell_type": "code",
   "execution_count": null,
   "id": "4d3ad3d1",
   "metadata": {
    "vscode": {
     "languageId": "shellscript"
    }
   },
   "outputs": [
    {
     "data": {
      "text/plain": [
       "'navigate_to_link'"
      ]
     },
     "execution_count": 74,
     "metadata": {},
     "output_type": "execute_result"
    }
   ],
   "source": []
  },
  {
   "cell_type": "code",
   "execution_count": null,
   "id": "83dd76e1",
   "metadata": {
    "vscode": {
     "languageId": "shellscript"
    }
   },
   "outputs": [],
   "source": []
  },
  {
   "cell_type": "code",
   "execution_count": null,
   "id": "cde9bb50",
   "metadata": {
    "vscode": {
     "languageId": "shellscript"
    }
   },
   "outputs": [],
   "source": []
  },
  {
   "cell_type": "code",
   "execution_count": null,
   "id": "a923af6b",
   "metadata": {
    "vscode": {
     "languageId": "shellscript"
    }
   },
   "outputs": [],
   "source": []
  },
  {
   "cell_type": "code",
   "execution_count": null,
   "id": "77fd423d",
   "metadata": {
    "vscode": {
     "languageId": "shellscript"
    }
   },
   "outputs": [],
   "source": []
  },
  {
   "cell_type": "markdown",
   "id": "23378af1-20bd-42db-a0ac-28d6bb2c1a1a",
   "metadata": {},
   "source": [
    "## EXECUTING THE WORkFLOW STEPS"
   ]
  },
  {
   "cell_type": "code",
   "execution_count": null,
   "id": "94940802-7cac-46b1-a26b-6194e8a2bb3e",
   "metadata": {
    "vscode": {
     "languageId": "shellscript"
    }
   },
   "outputs": [
    {
     "ename": "",
     "evalue": "",
     "output_type": "error",
     "traceback": [
      "\u001b[1;31mnotebook controller is DISPOSED. \n",
      "\u001b[1;31mView Jupyter <a href='command:jupyter.viewOutput'>log</a> for further details."
     ]
    }
   ],
   "source": []
  },
  {
   "cell_type": "code",
   "execution_count": null,
   "id": "e7b5eebf-0c85-412d-b1a9-92974784bb09",
   "metadata": {
    "vscode": {
     "languageId": "shellscript"
    }
   },
   "outputs": [
    {
     "ename": "",
     "evalue": "",
     "output_type": "error",
     "traceback": [
      "\u001b[1;31mnotebook controller is DISPOSED. \n",
      "\u001b[1;31mView Jupyter <a href='command:jupyter.viewOutput'>log</a> for further details."
     ]
    }
   ],
   "source": []
  },
  {
   "cell_type": "markdown",
   "id": "8c9e52dd-30dd-4547-9fb2-fab225394fa9",
   "metadata": {},
   "source": [
    "### function for taking one step "
   ]
  },
  {
   "cell_type": "code",
   "execution_count": null,
   "id": "bc42e190-d284-4048-a085-3bc22cbec7bf",
   "metadata": {
    "vscode": {
     "languageId": "shellscript"
    }
   },
   "outputs": [
    {
     "ename": "",
     "evalue": "",
     "output_type": "error",
     "traceback": [
      "\u001b[1;31mnotebook controller is DISPOSED. \n",
      "\u001b[1;31mView Jupyter <a href='command:jupyter.viewOutput'>log</a> for further details."
     ]
    }
   ],
   "source": []
  }
 ],
 "metadata": {
  "kernelspec": {
   "display_name": "NN",
   "language": "python",
   "name": "nn"
  },
  "language_info": {
   "codemirror_mode": {
    "name": "ipython",
    "version": 3
   },
   "file_extension": ".py",
   "mimetype": "text/x-python",
   "name": "python",
   "nbconvert_exporter": "python",
   "pygments_lexer": "ipython3",
   "version": "3.12.3"
  }
 },
 "nbformat": 4,
 "nbformat_minor": 5
}
